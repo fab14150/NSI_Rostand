{
 "cells": [
  {
   "cell_type": "code",
   "execution_count": null,
   "metadata": {},
   "outputs": [],
   "source": [
    "# Charge ma feuille de style pour nbviewer\n",
    "from IPython.core.display import HTML\n",
    "from urllib.request import urlopen\n",
    "url = 'https://github.com/jeromegaumer/NSIrostand/raw/master/static/custom.css'\n",
    "#url = 'https://framagit.org/debimax/cours-debimax/raw/master/static/custom.css?inline=false'\n",
    "with urlopen(url) as response:\n",
    "    styles = response.read().decode(\"utf8\")\n",
    "    styles = styles +\".rendered_html code {\\nbackground: SteelBlue ;\\ncolor: white\\n}\"\n",
    "styles = \"<style>\\n{}\\n</style>\".format(styles)\n",
    "HTML(styles)"
   ]
  },
  {
   "cell_type": "markdown",
   "metadata": {
    "deletable": false,
    "editable": false,
    "run_control": {
     "frozen": true
    }
   },
   "source": [
    "On pourra toujours  tester son code javascript  sur [jsfiddle](https://jsfiddle.net/)  il faudra par contrer changer `element.append()`   par `alert()`.\n",
    "\n",
    "# Les bases de JavaScript\n",
    "[Ref](https://profdoc.iddocs.fr/IMG/pdf/billiejoe_javascript_fiches.pdf)\n",
    "\n",
    "Le JavaScript, créé en 1995 par ***Brendan Eich*** (pour la Netscape Communication Corporation), est un langage de programmation de scripts orienté objet.  \n",
    "Si le terme Java est commun au langage du même nom, le JavaScript est radicalement différent.  \n",
    "\n",
    "\n",
    "## Écrire du code javascript\n",
    "\n",
    "Il y a deux façons d'avoir des pages web  interactives.\n",
    "- Par le client qui est un navigateur internet (javascript)\n",
    "- Par le serveur (python,  php,  ...)\n",
    "\n",
    "Le  code javascript est un langage de programmation qui permet d'avoir des pages html interactives.  \n",
    "Le script est interprété par le navigateur (firefox, chrome ...)  et permet d'ajouter de l'interactivité à votre page html.\n",
    "\n",
    "\n",
    "### code javascript dans le code html\n",
    "\n",
    "On utilise la balise `<script> .... </script>`\n",
    "\n",
    "De manière générale, les instructions doivent être séparées par un point-virgule que l'on place à la fin de chaque instruction :\n",
    "\n",
    "```html\n",
    "<script>\n",
    "instruction_1;\n",
    "instruction_2;\n",
    "instruction_3;\n",
    "</script>\n",
    "```\n",
    "\n",
    "La syntaxe d'une fonction se compose de deux choses : son nom, suivi d'un couple de parenthèses (une ouvrante et une fermante). Entre les parenthèses se trouvent les arguments, que l'on appelle aussi paramètres.\n",
    "\n",
    "```html\n",
    "<script>\n",
    "myFunction();\n",
    "</script>\n",
    "```"
   ]
  },
  {
   "cell_type": "markdown",
   "metadata": {
    "deletable": false,
    "editable": false,
    "run_control": {
     "frozen": true
    }
   },
   "source": [
    "`TP  à faire vous même`\n",
    "\n",
    "- Ouvrez ***notepad++*** et créer le fichier ***test1.html*** avec le code suivant:  \n",
    "```html\n",
    "<html>\n",
    "<head>\n",
    "    <meta charset=\"UTF-8\">\n",
    "    <title>Test 1</title>\n",
    "</head>\n",
    "<body>\n",
    "    <h1>Voici un premier exemple de JS.</h1>\n",
    "<script>\n",
    "    var prenom = prompt('Quel est votre prénom ?');\n",
    "    alert('Bonjour ' + prenom);\n",
    "</script>\n",
    "    </body>\n",
    "</html>\n",
    "```\n",
    "- Ouvrez la page dans le navigateur Firefox ou chrome et observez.  \n",
    "On va faire des modifications.\n",
    "- Maintenant, changer la ligne  `alert('Bonjour ' + prenom)`  par `console.log('Bonjour ' + prenom);`.  \n",
    "\n",
    "  -  Avec  ***firefox***  Ouvrez:  menu -> Développement Web -> Outils de développement ***(Ctrl+Maj+i)***   \n",
    "  -  Avec ***Chrome*** Menu:  -> Plus d'outil -> outils de développement ***(Ctrl+Maj+i)***  \n",
    "- sélectionnez la console,  recharger alors la page *test1.html* puis observez la salutation."
   ]
  },
  {
   "cell_type": "markdown",
   "metadata": {
    "deletable": false,
    "editable": false,
    "run_control": {
     "frozen": true
    }
   },
   "source": [
    "### code javascript séparé du code html\n",
    "\n",
    "Il est conseillé, d'écrire le code Javascript dans un fichier externe, portant l'extension `.js`.  \n",
    "Ce fichier est ensuite appelé depuis la page Web au moyen de l'élément `<script>` et de son attribut *src* qui contient l'URL du fichier ***.js***.\n",
    "\n",
    "- Écrire le fichier ***test2.html***\n",
    "```html\n",
    "<html>\n",
    "<head>\n",
    "    <meta charset=\"UTF-8\">\n",
    "    <title>Test 1</title>\n",
    "</head>\n",
    "<body>\n",
    "    <h1>Voici un premier exemple de JS.</h1>\n",
    "<script src=\"hello.js\"></script>\n",
    "</body>\n",
    "</html>\n",
    "```\n",
    "- Écrire dans le même dossier le fichier ***hello.js***:\n",
    "```js\n",
    "var prenom = prompt('Quel est votre prénom ?');\n",
    "alert('Bonjour ' + prenom);\n",
    "```\n",
    "\n",
    "\n",
    "\n",
    "\n",
    "Pour éviter des problèmes de chargement sur les pages, il est conseillé de placer les\n",
    "éléments `<script>` juste avant la fermeture de l'élément `</body>`.\n",
    "\n",
    "Pour la suite de ce cours on utilisera ce notebook."
   ]
  },
  {
   "cell_type": "markdown",
   "metadata": {
    "deletable": false,
    "editable": false,
    "run_control": {
     "frozen": true
    }
   },
   "source": [
    "### code javascript  dans ce notebook\n",
    "\n",
    "On commence la cellule avec **`%%js`** pour indiquer que c'est du code javascript."
   ]
  },
  {
   "cell_type": "code",
   "execution_count": null,
   "metadata": {},
   "outputs": [],
   "source": [
    "%%js\n",
    "var prenom = \"Nathan\";\n",
    "alert('Bonjour ' + prenom)"
   ]
  },
  {
   "cell_type": "markdown",
   "metadata": {
    "deletable": false,
    "editable": false,
    "run_control": {
     "frozen": true
    }
   },
   "source": [
    "On peut aussi afficher le texte avec ***element.append()***  et ***element.text()***"
   ]
  },
  {
   "cell_type": "code",
   "execution_count": null,
   "metadata": {},
   "outputs": [],
   "source": [
    "%%js\n",
    "var prenom = \"Romain\";\n",
    "var prenom2 = \"Ines\"\n",
    "element.append('Bonjour ' + prenom + \"<br>\"); \n",
    "element.append('Bonjour ' + prenom2 + \"<br>\"); "
   ]
  },
  {
   "cell_type": "markdown",
   "metadata": {
    "deletable": false,
    "editable": false,
    "run_control": {
     "frozen": true
    }
   },
   "source": [
    "On peut aussi utiliser l'attribut  ***text***  qui par contre n'interprète pas les balises."
   ]
  },
  {
   "cell_type": "code",
   "execution_count": null,
   "metadata": {},
   "outputs": [],
   "source": [
    "%%js\n",
    "element.text(\"<b>Encore</b> du texte <br>\");"
   ]
  },
  {
   "cell_type": "markdown",
   "metadata": {
    "deletable": false,
    "editable": false,
    "run_control": {
     "frozen": true
    }
   },
   "source": [
    "## Commentaires\n",
    "\n",
    "- On utilise `//`... Pour un commentaire sur Une ligne\n",
    "- On utilise  `/*`  ....  `*/` pour un commentaire sur plusieurs lignes.\n",
    "\n",
    "```js\n",
    "instruction_1; // Ceci est ma première instruction\n",
    "instruction_2;\n",
    "/* La troisième instruction ci-dessous,\n",
    "avec un commentaire sur deux lignes */\n",
    "instruction_3;\n",
    "```\n",
    "\n",
    "- Ce n'est pas obligatoire en javascript (à la différence de python) mais il est d'usage d'indenter le code pour plus de clarté."
   ]
  },
  {
   "cell_type": "markdown",
   "metadata": {
    "deletable": false,
    "editable": false,
    "run_control": {
     "frozen": true
    }
   },
   "source": [
    "## Les variables\n",
    "\n",
    "Comme en python les variables ont un type. ***Number, String*** et ***Boolean***,\n",
    "\n",
    "il faut déclarer les variables  au début du script."
   ]
  },
  {
   "cell_type": "code",
   "execution_count": null,
   "metadata": {},
   "outputs": [],
   "source": [
    "%%js\n",
    "var nombre = 3;\n",
    "nombre = nombre + 5;\n",
    "//alert(nombre); // Affiche:  8 \n",
    "element.append(nombre);"
   ]
  },
  {
   "cell_type": "markdown",
   "metadata": {
    "deletable": false,
    "editable": false,
    "run_control": {
     "frozen": true
    }
   },
   "source": [
    "On peut concaténer deux chaînes avec l'opérateur `+`"
   ]
  },
  {
   "cell_type": "code",
   "execution_count": null,
   "metadata": {},
   "outputs": [],
   "source": [
    "%%js\n",
    "var nombre = 3;\n",
    "nombre = \"Le nombre est \" + nombre;\n",
    "//alert(nombre); // Affiche:  3\n",
    "element.append(nombre);    "
   ]
  },
  {
   "cell_type": "markdown",
   "metadata": {
    "deletable": false,
    "editable": false,
    "run_control": {
     "frozen": true
    }
   },
   "source": [
    "On peut concaténer des variables de type différent en javascript.\n",
    "\n",
    "## Saisir \n",
    "On peut aussi se servir de la fonction `prompt()` pour saisir un nombre."
   ]
  },
  {
   "cell_type": "code",
   "execution_count": null,
   "metadata": {},
   "outputs": [],
   "source": [
    "%%js\n",
    "var premier, second, resultat;\n",
    "premier = prompt('Entrez le premier chiffre :');\n",
    "second = prompt('Entrez le second chiffre :');\n",
    "resultat = parseInt(premier) + parseInt(second); \n",
    "/* la fonction parseInt() transforme la chaîne de caractères en nombre */\n",
    "\n",
    "element.append(resultat);"
   ]
  },
  {
   "cell_type": "markdown",
   "metadata": {
    "deletable": false,
    "editable": false,
    "run_control": {
     "frozen": true
    }
   },
   "source": [
    "## Les fonctions\n",
    "\n",
    "La  syntaxe d'une fonction est:\n",
    "\n",
    "```js\n",
    "function maFonction(arguments) { // Le terme \"function\" est obligatoire\n",
    "   Le code javascript que la fonction va devoir exécuter\n",
    "}\n",
    "```\n",
    "\n",
    "Par exemple"
   ]
  },
  {
   "cell_type": "code",
   "execution_count": null,
   "metadata": {},
   "outputs": [],
   "source": [
    "%%js\n",
    "function carre(x) {\n",
    "    var y;\n",
    "    y=x**2;\n",
    "    return y\n",
    "}\n",
    "\n",
    "element.append(carre(4))"
   ]
  },
  {
   "cell_type": "code",
   "execution_count": null,
   "metadata": {},
   "outputs": [],
   "source": [
    "%%js\n",
    "function carre(x) {\n",
    "    var y;\n",
    "    y=x**2;\n",
    "    return y\n",
    "}\n",
    "\n",
    "var nombre = parseInt(prompt('Saisir un nombre'));\n",
    "element.append(carre(nombre))"
   ]
  },
  {
   "cell_type": "markdown",
   "metadata": {
    "deletable": false,
    "editable": false,
    "run_control": {
     "frozen": true
    }
   },
   "source": [
    "## Les opérateurs logiques\n",
    "\n",
    "On retrouve les opérateurs logiques **et, ou  non** mais ils ne s'écrivent pas comme pour Python.\n",
    "\n",
    "\n",
    "Opérateurs | python |  javascript\n",
    ":---:   |  :---:   |  :---:    \n",
    "A et B | A and B  |  A \\&\\& B \n",
    "A ou B | A or B  |  A \\|\\| B \n",
    "Non A   |  not A  | !A \n",
    "\n",
    "\n",
    "exemples:"
   ]
  },
  {
   "cell_type": "code",
   "execution_count": null,
   "metadata": {},
   "outputs": [],
   "source": [
    "%%js\n",
    "var a=1, b=2, c=3;\n",
    "element.text(a==b || c==3);"
   ]
  },
  {
   "cell_type": "code",
   "execution_count": null,
   "metadata": {},
   "outputs": [],
   "source": [
    "%%js\n",
    "var a=1, b=2, c=3;\n",
    "element.text(a==b && c==3);  "
   ]
  },
  {
   "cell_type": "code",
   "execution_count": null,
   "metadata": {},
   "outputs": [],
   "source": [
    "%%js\n",
    "var a=1, b=2, c=3;\n",
    "element.text( (a==b && c==3) );  "
   ]
  },
  {
   "cell_type": "code",
   "execution_count": null,
   "metadata": {},
   "outputs": [],
   "source": [
    "%%js\n",
    "var a=1, b=2;\n",
    "element.text(a!=b);"
   ]
  },
  {
   "cell_type": "markdown",
   "metadata": {
    "deletable": false,
    "editable": false,
    "run_control": {
     "frozen": true
    }
   },
   "source": [
    "## Les conditions si\n",
    "\n",
    "La syntaxe est:\n",
    "```js\n",
    "if (condition) { \n",
    "    # Traitement bloc 1\n",
    "}\n",
    "else {\n",
    "    # Traitement bloc 2\n",
    "}\n",
    "```\n",
    "\n",
    "Par exemple"
   ]
  },
  {
   "cell_type": "code",
   "execution_count": null,
   "metadata": {},
   "outputs": [],
   "source": [
    "%%js\n",
    "var age = parseInt(prompt(\"Nous devons vérifier que vous avez plus de 18 ans\\n Quel est votre age?\"));\n",
    "if (age < 18) {\n",
    "    element.text(\"Vous n'avez pas 18 ans alors vous ne pouvez pas entrer.\\nIl vous faut attendre \"+(18-age)+\" ans.\");\n",
    "} \n",
    "else {\n",
    "    element.text(\"Vous êtes un menteur et vous ne pouvez pas entrer.\");\n",
    "}"
   ]
  },
  {
   "cell_type": "markdown",
   "metadata": {
    "deletable": false,
    "editable": false,
    "run_control": {
     "frozen": true
    }
   },
   "source": [
    "## Selon le cas où (switch case)\n",
    "\n",
    "Voici une boucle qui n'existe pas en Python. En Python, on utilise à la place `elif`."
   ]
  },
  {
   "cell_type": "code",
   "execution_count": null,
   "metadata": {},
   "outputs": [],
   "source": [
    "%%js\n",
    "var Nombre = parseInt(prompt('Saisir un entier entre (1 à 4) :')); \n",
    "switch (Nombre) {\n",
    "case 1: \n",
    "    element.text('Vous avez entré 1.');\n",
    "    break; // on arrête la fonction pour passer à un autre cas\n",
    "case 2:\n",
    "    element.text('Vous avez entré 2.');\n",
    "    break;\n",
    "case 3:\n",
    "    element.text('Vous avez entré 3.');\n",
    "    break;\n",
    "case 4:\n",
    "    element.text('Vous avez entré 4.');\n",
    "    break;\n",
    "default: // on pose une autre possibilité, pour gérer une erreur de l'utilisateur\n",
    "    element.text(\"On vous a dit un entier entre 1 et 4.\");\n",
    "}"
   ]
  },
  {
   "cell_type": "markdown",
   "metadata": {
    "deletable": false,
    "editable": false,
    "run_control": {
     "frozen": true
    }
   },
   "source": [
    "## La boucle pour\n",
    "\n",
    "```js\n",
    "for (initialisation; condition; incrémentation) {\n",
    "    #Traitement bloc\n",
    "}\n",
    "```"
   ]
  },
  {
   "cell_type": "code",
   "execution_count": null,
   "metadata": {},
   "outputs": [],
   "source": [
    "%%js\n",
    "var nombre = 1;\n",
    "for (nombre = 0; nombre <= 10; nombre++) {\n",
    "element.append( nombre + \"  \");\n",
    "}"
   ]
  },
  {
   "cell_type": "code",
   "execution_count": null,
   "metadata": {},
   "outputs": [],
   "source": [
    "%%js\n",
    "var i = 1;\n",
    "var u = 1;\n",
    "for (i = 0; i <= 10; i++) {\n",
    "    u=u+3\n",
    "    element.append( \"u(\"+i+\")=\" + u +\"<br>\");\n",
    "}"
   ]
  },
  {
   "cell_type": "markdown",
   "metadata": {
    "deletable": false,
    "editable": false,
    "run_control": {
     "frozen": true
    }
   },
   "source": [
    "## La boucle tant que\n",
    "\n",
    "La syntaxe est:\n",
    "\n",
    "```js\n",
    "while (condition) {\n",
    "    #Traitement bloc\n",
    "}\n",
    "```\n",
    "\n",
    "Exemple"
   ]
  },
  {
   "cell_type": "code",
   "execution_count": null,
   "metadata": {},
   "outputs": [],
   "source": [
    "%%js\n",
    "var nombre = 1;\n",
    "while (nombre <= 10) {\n",
    "    element.append( nombre + \"  \");\n",
    "    nombre++; // On peut utiliser aussi nombre = nombre +1 \n",
    "}"
   ]
  },
  {
   "cell_type": "code",
   "execution_count": null,
   "metadata": {},
   "outputs": [],
   "source": [
    "%%js\n",
    "var u = 0.1;\n",
    "var i = 0\n",
    "while (u <= 10) {\n",
    "    u=u*1.02;\n",
    "    i++ \n",
    "}\n",
    "element.append(\"u(\"+i+\")=\"+u)"
   ]
  },
  {
   "cell_type": "markdown",
   "metadata": {
    "deletable": false,
    "editable": false,
    "run_control": {
     "frozen": true
    }
   },
   "source": [
    "# Les objets et les tableaux\n",
    "\n",
    "## Les Objets\n",
    "\n",
    "Les variables contiennent des objets, qui peuvent être des nombres, des chaînes de caractères ou des booléens.  \n",
    "  \n",
    "Remarque: *python* peut être un langage orienté objet ou non, c'est au programme de terminal\n",
    "et c'est obligatoire de programmer ainsi pour les jeux.\n",
    "\n",
    "Les objets contiennent trois choses :\n",
    "- un constructeur\n",
    "- des propriétés\n",
    "- des méthodes."
   ]
  },
  {
   "cell_type": "markdown",
   "metadata": {
    "deletable": false,
    "editable": false,
    "run_control": {
     "frozen": true
    }
   },
   "source": [
    "## Les tableaux\n"
   ]
  },
  {
   "cell_type": "code",
   "execution_count": null,
   "metadata": {},
   "outputs": [],
   "source": [
    "%%js\n",
    "var tab = ['Marius', 'Elric', 'El-Tahar', 'Chahine', 'Chloé'];\n",
    "element.append(tab[0]+'<br>');\n",
    "element.append(tab[2]+'<br>');"
   ]
  },
  {
   "cell_type": "markdown",
   "metadata": {
    "deletable": false,
    "editable": false,
    "run_control": {
     "frozen": true
    }
   },
   "source": [
    "Cela ressemble beaucoup à Python.\n",
    "On constate que les tableaux commencent aussi à l'indice 0.\n",
    "\n",
    "On peut faire aussi du slicing avec la méthode `.slice(m,n)`."
   ]
  },
  {
   "cell_type": "code",
   "execution_count": null,
   "metadata": {},
   "outputs": [],
   "source": [
    "%%js\n",
    "var tab = ['Marius', 'Elric', 'El-Tahar', 'Chahine', 'Chloé'];\n",
    "element.text(tab.slice(1,3));"
   ]
  },
  {
   "cell_type": "markdown",
   "metadata": {
    "deletable": false,
    "editable": false,
    "run_control": {
     "frozen": true
    }
   },
   "source": [
    "Voici quelques méthodes de tableau [Ref](https://developer.mozilla.org/fr/docs/Web/JavaScript/Reference/Objets_globaux/Array/fill)\n",
    "\n",
    "\n",
    "\n",
    "- `.find(element)` renvoie la valeur du premier élément  trouvé dans le tableau.   \n",
    "   Si la valeur n'est pas trouvée alors  `undefined` est renvoyée.\n",
    "- `.pop()` **supprime** le dernier élément d'un tableau et retourne cet élément\n",
    "- `.push()` **ajoute** un ou plusieurs éléments à la fin d'un tableau et retourne la nouvelle taille du tableau.\n",
    "- `.shift()` permet de **retirer** le premier élément d'un tableau et de renvoyer cet élément. \n",
    "-  `.slice()` permet de faire un slicing. "
   ]
  },
  {
   "cell_type": "markdown",
   "metadata": {
    "deletable": false,
    "editable": false,
    "run_control": {
     "frozen": true
    }
   },
   "source": [
    "## Exercices\n",
    "\n",
    "***Exercice 1:***\n",
    "Résoudre le 1° problème du projecteuler  https://projecteuler.net/problem=1  \n",
    "Si vous avez des problèmes avec la langue de *shakespeare*, faites le traduire."
   ]
  },
  {
   "cell_type": "code",
   "execution_count": null,
   "metadata": {},
   "outputs": [],
   "source": [
    "%%js"
   ]
  },
  {
   "cell_type": "markdown",
   "metadata": {},
   "source": [
    "\n",
    "***Exercice 2:***\n",
    "Résoudre le 2°  problème du projecteuler  https://projecteuler.net/problem=2  "
   ]
  },
  {
   "cell_type": "code",
   "execution_count": null,
   "metadata": {},
   "outputs": [],
   "source": [
    "%%js"
   ]
  },
  {
   "cell_type": "markdown",
   "metadata": {},
   "source": [
    "***Exercice 3:***\n",
    "Résoudre le 4°  problème du projecteuler  https://projecteuler.net/problem=4"
   ]
  },
  {
   "cell_type": "markdown",
   "metadata": {},
   "source": [
    "Une solution en python"
   ]
  },
  {
   "cell_type": "code",
   "execution_count": null,
   "metadata": {
    "solution2": "hidden"
   },
   "outputs": [],
   "source": [
    "def est_palindrome(nb):\n",
    "    '''\n",
    "    Fonction qui renvoie True si nb est un palindrome,  False  sinon\n",
    "    Il y a beaucoup plus concis que cette fonction mais cette méthode est plus générale.\n",
    "    '''\n",
    "    nb1=nb\n",
    "    nb2=0   # Nb2 sera nb inversé\n",
    "    while nb1!=0:    \n",
    "        q=nb1%10        # C'est chiffres des unités de  nb1.\n",
    "        nb1=nb1-q       # On l'enlève à nb1. nb1 a donc 0  comme chiffre des unités\n",
    "        nb1=nb1//10     # On enlève le 0\n",
    "        nb2=10*nb2+q    # On rajoute ce chiffre à nb2\n",
    "        #print(nb1,nb2) # Je m'en suis servi pour vérifier mon programme\n",
    "    if nb == nb2:\n",
    "        return True\n",
    "    else:\n",
    "        return False\n",
    "max=0\n",
    "for i in range(0,1000):\n",
    "    for j in range(i,1000):\n",
    "        prod=i*j\n",
    "        if est_palindrome(prod):\n",
    "            if prod>=max:\n",
    "                max=prod\n",
    "print(max) # 906609"
   ]
  },
  {
   "cell_type": "markdown",
   "metadata": {
    "solution2": "hidden",
    "solution2_first": true
   },
   "source": [
    "En javascript"
   ]
  },
  {
   "cell_type": "code",
   "execution_count": null,
   "metadata": {
    "solution2": "hidden"
   },
   "outputs": [],
   "source": [
    "%%js\n"
   ]
  }
 ],
 "metadata": {
  "celltoolbar": "Éditer les Méta-Données",
  "finalized": {
   "timestamp": 1580992749264,
   "trusted": true
  },
  "kernelspec": {
   "display_name": "Python 3",
   "language": "python",
   "name": "python3"
  },
  "language_info": {
   "codemirror_mode": {
    "name": "ipython",
    "version": 3
   },
   "file_extension": ".py",
   "mimetype": "text/x-python",
   "name": "python",
   "nbconvert_exporter": "python",
   "pygments_lexer": "ipython3",
   "version": "3.7.0"
  },
  "toc": {
   "base_numbering": 1,
   "nav_menu": {},
   "number_sections": true,
   "sideBar": true,
   "skip_h1_title": false,
   "title_cell": "Table of Contents",
   "title_sidebar": "Contents",
   "toc_cell": false,
   "toc_position": {},
   "toc_section_display": true,
   "toc_window_display": false
  }
 },
 "nbformat": 4,
 "nbformat_minor": 2
}
