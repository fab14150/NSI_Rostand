{
 "cells": [
  {
   "cell_type": "markdown",
   "metadata": {},
   "source": [
    "<h1> Comment tester un programme ?</h1>"
   ]
  },
  {
   "cell_type": "markdown",
   "metadata": {},
   "source": [
    "<p style=\"text-align:center\";>\"Tester un programme peut démontrer la présence d'un bug, jamais son absence.\" </p>\n",
    "<p style=\"text-align:right\";>Dijkstra</p>"
   ]
  },
  {
   "cell_type": "markdown",
   "metadata": {},
   "source": [
    "Écrire un programme, c'est bien. Écrire un programme juste, c'est mieux. La panacée serait de pouvoir prouver tous les programmes que l'on écrit, mais outre que ce n'est pas forcément évident, on n'est jamais à l'abri d'une erreur de frappe qui nous fait lire ce que l'on voudrait lire et non ce qui est réellement écrit dans le code.C'est pourquoi il est intéressant (bien que non suffisant en général) de tester les bouts de code que l'on écrit sur des cas particuliers pour lesquels on connait bien le résultat attendu."
   ]
  },
  {
   "cell_type": "markdown",
   "metadata": {},
   "source": [
    "# I. Tests directs"
   ]
  },
  {
   "cell_type": "markdown",
   "metadata": {},
   "source": [
    "Une fois qu'on a écrit une fonction, il faut impérativement vérifier sa validité c'est-à-dire vérifier qu'elle fait bien ce qu'elle est sensée faire.<br>\n",
    "Pour détecter d'éventuelles erreurs, on peut utiliser la fonction sur quelques cas concrets et vérifier qu'elle produit le résultat attendu."
   ]
  },
  {
   "cell_type": "markdown",
   "metadata": {},
   "source": [
    "### Exemple"
   ]
  },
  {
   "cell_type": "markdown",
   "metadata": {},
   "source": [
    "**Q1** Que fait cette fonction ?"
   ]
  },
  {
   "cell_type": "code",
   "execution_count": null,
   "metadata": {},
   "outputs": [],
   "source": [
    "def maximum_tableau(t):\n",
    "    m=0\n",
    "    for i in range(len(t)):\n",
    "        if t[i] > t[m]:\n",
    "            m = i\n",
    "    return m"
   ]
  },
  {
   "cell_type": "markdown",
   "metadata": {},
   "source": [
    "On peut tester que cette fonction renvoie bien 1 si l'argument t vaut [2,3,1].<br>\n",
    "On peut aussi tester que cette fonction renvoie -1 si l'argument t vaut [-3,-7,-3,-1]."
   ]
  },
  {
   "cell_type": "code",
   "execution_count": null,
   "metadata": {
    "scrolled": true
   },
   "outputs": [],
   "source": [
    "print(maximum_tableau([2,3,1]))\n",
    "print(maximum_tableau([-3,-7,-3,-1]))"
   ]
  },
  {
   "cell_type": "markdown",
   "metadata": {},
   "source": [
    "Si le résultat renvoyé par la fonction n'est pas celui qui était attendu, alors il y a manifestement une erreur dans le programme. Il faut donc trouver et corriger l'erreur.<br>\n",
    "Si le résultat renvoyé est bien celui attendu, cela ne veut pas dire qu'il n'y a pas d'erreur. Le programme peut contenir une erreur qui se révelerait sur d'autres cas particuliers."
   ]
  },
  {
   "cell_type": "markdown",
   "metadata": {},
   "source": [
    "**Exemple** Dans le cas d'un tableau vide"
   ]
  },
  {
   "cell_type": "code",
   "execution_count": null,
   "metadata": {},
   "outputs": [],
   "source": [
    "t=[]\n",
    "print(maximum_tableau(t))"
   ]
  },
  {
   "cell_type": "markdown",
   "metadata": {},
   "source": [
    "A priori, lorsqu'on teste la fonction avec un tableau vide, il n'y a pas de message d'erreur."
   ]
  },
  {
   "cell_type": "code",
   "execution_count": null,
   "metadata": {
    "scrolled": true
   },
   "outputs": [],
   "source": [
    "i = maximum_tableau(t)\n",
    "t[i]"
   ]
  },
  {
   "cell_type": "markdown",
   "metadata": {},
   "source": [
    "En fait cette fonction ne s'applique pas sur un tableau vide. Dans le cas d'un tableau vide, elle ne fait que renvoyer la valeur 0 qui a servi à initialiser la variable m. Mais ce n'est pas une valeur valide puisque cela ne correspond pas à l'indice de la valeur maximum du tableau."
   ]
  },
  {
   "cell_type": "markdown",
   "metadata": {
    "solution2": "hidden",
    "solution2_first": true
   },
   "source": [
    "# II. Les assertions"
   ]
  },
  {
   "cell_type": "markdown",
   "metadata": {},
   "source": [
    "## 2.1. Tests dans une fonction"
   ]
  },
  {
   "cell_type": "markdown",
   "metadata": {},
   "source": [
    "On vient de voir que notre fonction ne s'appliquait pas pour un tableau vide. On peut alors tester directement cette condition dans la fonction.\n",
    "Pour tester une condition dans une fonction et interrompre le programme avec un message dans le cas où la condition n'est pas respectée, on peut utiliser l'instruction <code>assert</code>."
   ]
  },
  {
   "cell_type": "code",
   "execution_count": null,
   "metadata": {},
   "outputs": [],
   "source": [
    "def maximum_tableau(t):\n",
    "    assert len(t) > 0, \"le tableau est vide\"\n",
    "    m=0\n",
    "    for i in range(len(t)):\n",
    "        if t[i] > t[m]:\n",
    "            m = i\n",
    "    return m"
   ]
  },
  {
   "cell_type": "code",
   "execution_count": null,
   "metadata": {
    "scrolled": true
   },
   "outputs": [],
   "source": [
    "maximum_tableau([])"
   ]
  },
  {
   "cell_type": "markdown",
   "metadata": {},
   "source": [
    "Si la fonction appelée est un tableau vide, le test échoue et le programme est interrompu avec l'affichage du contexte dans lequel cet appel a eu lieu et du message qui accompagne le test.<br>\n",
    "On appelle cela de la *programmation défensive*."
   ]
  },
  {
   "cell_type": "markdown",
   "metadata": {},
   "source": [
    "**Remarque**\n",
    "Une autre façon de faire et qui évite que le programme soit interrompu, serait de renvoyer une valeur qui ne peut être confondue avec un résultat valide. Souvent on utilise la valeur <code>None</code>."
   ]
  },
  {
   "cell_type": "code",
   "execution_count": null,
   "metadata": {},
   "outputs": [],
   "source": [
    "def maximum_tableau(t):\n",
    "    if len(t) == 0:\n",
    "        return None\n",
    "    m=0\n",
    "    for i in range(len(t)):\n",
    "        if t[i] > t[m]:\n",
    "            m = i\n",
    "    return m"
   ]
  },
  {
   "cell_type": "code",
   "execution_count": null,
   "metadata": {},
   "outputs": [],
   "source": [
    "maximum_tableau([])\n",
    "print(maximum_tableau([]))"
   ]
  },
  {
   "cell_type": "markdown",
   "metadata": {},
   "source": [
    "## 2.2. Jeux de tests "
   ]
  },
  {
   "cell_type": "markdown",
   "metadata": {},
   "source": [
    "Plutôt que d'effectuer les tests directement dans une fonction, on peut mettre en œuvre des jeux de tests sous forme d'une suite d'appels de la fonction définie avec la construction <code>assert</code> et un test d'égalité.<br>\n",
    "Pour établir un plan de test, il faut énumérer les cas à tester et établir un test par cas. Ces tests doivent envisager suffisamment de cas afin que le concepteur ait confiance dans la validité de sa fonction.<br>\n",
    "Il est important de souligner que les méthodes de tests aussi importantes soient elles ne sont pas (en général) exhaustive. On ne peut en effet que tester un nombre fini de valeurs.<br>\n",
    "Quand le programme est constitué de plusieurs modules, chacun doit être testé indépendamment avant de tester la globalité dans une série de tests dits d'intégration. "
   ]
  },
  {
   "cell_type": "code",
   "execution_count": null,
   "metadata": {},
   "outputs": [],
   "source": [
    "def maximum_tableau(t):\n",
    "    if len(t) == 0:\n",
    "        return None\n",
    "    m=0\n",
    "    for i in range(len(t)):\n",
    "        if t[i] > t[m]:\n",
    "            m = i\n",
    "    return m"
   ]
  },
  {
   "cell_type": "code",
   "execution_count": null,
   "metadata": {},
   "outputs": [],
   "source": [
    "# jeu de tests\n",
    "assert maximum_tableau([2,3,1]) == 1\n",
    "assert maximum_tableau([3,1,3,7]) == 3\n",
    "assert maximum_tableau([]) == None\n",
    "assert maximum_tableau([8,3,1,3,7]) == 0\n",
    "assert maximum_tableau([-3,-1,-3,-7]) == 1"
   ]
  },
  {
   "cell_type": "markdown",
   "metadata": {},
   "source": [
    "Si l'un des tests échoue, il faut rectifier le programme. Une fois l'erreur corrigée, il faut relancer *tous* les tests, y compris ceux qui avaient déjà été effectués avec succès. En effet, en corrigeant une erreur, on peut en introduire une autre (c'est même assez courant)."
   ]
  },
  {
   "cell_type": "markdown",
   "metadata": {},
   "source": [
    "## Quand définir les tests ?\n",
    "On peut définir de nombreux tests pour un programme sur la seule base de sa spécification. Il suffit donc d'avoir décidé ce que devait faire exactement une fonction pour commencer à écrire les tests associés.<br>\n",
    "En particulier il est tout à fait imaginable, et c'est même une pratique courante, d'écrire un certain nombre de tests pour une fonction avant même d'avoir écrit le code de cette fonction.<br>\n",
    "Dans le cas d'un travail en équipe et une fois la spécification décidée en commun, on peut même confier la définition des tests et l'écriture du programme à deux personnes différentes. Cette pratique vise à éviter que le même oubli se glisse à la fois dans le programme et dans les tests et passe ainsi inaperçu."
   ]
  },
  {
   "cell_type": "markdown",
   "metadata": {},
   "source": [
    " "
   ]
  }
 ],
 "metadata": {
  "kernelspec": {
   "display_name": "Python 3",
   "language": "python",
   "name": "python3"
  },
  "language_info": {
   "codemirror_mode": {
    "name": "ipython",
    "version": 3
   },
   "file_extension": ".py",
   "mimetype": "text/x-python",
   "name": "python",
   "nbconvert_exporter": "python",
   "pygments_lexer": "ipython3",
   "version": "3.7.0"
  },
  "toc": {
   "base_numbering": 1,
   "nav_menu": {},
   "number_sections": false,
   "sideBar": true,
   "skip_h1_title": false,
   "title_cell": "Table of Contents",
   "title_sidebar": "Contents",
   "toc_cell": false,
   "toc_position": {},
   "toc_section_display": true,
   "toc_window_display": true
  }
 },
 "nbformat": 4,
 "nbformat_minor": 2
}
