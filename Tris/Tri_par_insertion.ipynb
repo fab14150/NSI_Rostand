{
 "cells": [
  {
   "cell_type": "markdown",
   "metadata": {},
   "source": [
    "<h1><font color=\"red\"> Tri par insertion </font></h1>"
   ]
  },
  {
   "cell_type": "markdown",
   "metadata": {},
   "source": [
    "Vous allez utiliser ce notebook pour écrire votre script python correspondant à l'algorithme du tri par insertion.\n",
    "Puis nous étudierons les temps de calcul suivant la longueur des tableaux. "
   ]
  },
  {
   "cell_type": "markdown",
   "metadata": {},
   "source": [
    "## 1) Création d'un tableau non trié"
   ]
  },
  {
   "cell_type": "code",
   "execution_count": null,
   "metadata": {},
   "outputs": [],
   "source": [
    "from random import randint"
   ]
  },
  {
   "cell_type": "markdown",
   "metadata": {},
   "source": [
    "Pour commencer vous aller écrire une fonction qui permet de créer un tableau de 5 éléments choisis de manière aléatoire entre 1 et 50."
   ]
  },
  {
   "cell_type": "code",
   "execution_count": null,
   "metadata": {},
   "outputs": [],
   "source": [
    "def creerTableau():\n",
    "    #écrivez votre code ici\n",
    "    \n",
    "t1=creerTableau()\n",
    "print(t1)"
   ]
  },
  {
   "cell_type": "markdown",
   "metadata": {},
   "source": [
    "## 2) Script Python du tri par insertion"
   ]
  },
  {
   "cell_type": "markdown",
   "metadata": {},
   "source": [
    "<font color=\"red\"><strong>ATTENTION</strong> : en Python, contrairement au langage naturel, les tableaux sont numérotés à partir de 0...</font>"
   ]
  },
  {
   "cell_type": "code",
   "execution_count": null,
   "metadata": {},
   "outputs": [],
   "source": [
    "def triInsertion(t):\n",
    "    #écrivez ici votre code python\n",
    "    \n",
    "    \n",
    "t1=creerTableau()\n",
    "print(t1)\n",
    "triInsertion(t1)"
   ]
  }
 ],
 "metadata": {
  "kernelspec": {
   "display_name": "Python 3",
   "language": "python",
   "name": "python3"
  },
  "language_info": {
   "codemirror_mode": {
    "name": "ipython",
    "version": 3
   },
   "file_extension": ".py",
   "mimetype": "text/x-python",
   "name": "python",
   "nbconvert_exporter": "python",
   "pygments_lexer": "ipython3",
   "version": "3.6.9"
  }
 },
 "nbformat": 4,
 "nbformat_minor": 2
}
