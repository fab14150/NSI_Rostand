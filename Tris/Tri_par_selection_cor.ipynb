{
 "cells": [
  {
   "cell_type": "markdown",
   "metadata": {},
   "source": [
    "<h1><font color=\"red\"> Tri par sélection </font></h1>"
   ]
  },
  {
   "cell_type": "markdown",
   "metadata": {},
   "source": [
    "Vous allez utiliser ce notebook pour écrire votre script python correspondant à l'algorithme du tri par sélection."
   ]
  },
  {
   "cell_type": "markdown",
   "metadata": {},
   "source": [
    "## 1) Création d'un tableau non trié"
   ]
  },
  {
   "cell_type": "code",
   "execution_count": null,
   "metadata": {},
   "outputs": [],
   "source": [
    "from random import randint"
   ]
  },
  {
   "cell_type": "markdown",
   "metadata": {},
   "source": [
    "Pour commencer vous aller écrire une fonction qui permet de créer un tableau de 10 éléments choisis de manière aléatoire entre 1 et 50."
   ]
  },
  {
   "cell_type": "code",
   "execution_count": null,
   "metadata": {},
   "outputs": [],
   "source": [
    "def creerTableau():\n",
    "    #écrivez votre code ici\n",
    "    return [randint(1,51) for i in range(10)]\n",
    "\n",
    "t1=creerTableau()\n",
    "print(t1)"
   ]
  },
  {
   "cell_type": "markdown",
   "metadata": {},
   "source": [
    "## 2) Script Python du tri par sélection"
   ]
  },
  {
   "cell_type": "markdown",
   "metadata": {},
   "source": [
    "<font color=\"red\"><strong>ATTENTION</strong> : en Python, contrairement au langage naturel, les tableaux sont numérotés à partir de 0...</font>"
   ]
  },
  {
   "cell_type": "code",
   "execution_count": null,
   "metadata": {},
   "outputs": [],
   "source": [
    "def triSelection(t):\n",
    "    #écrivez ici votre code python\n",
    "    i=0\n",
    "    while i <= len(t)-2:\n",
    "        valTemp=0\n",
    "        j=i+1\n",
    "        i_min = i\n",
    "        while j <= len(t)-1:\n",
    "            if t[j] < t[i_min]:\n",
    "                i_min = j\n",
    "            j=j+1\n",
    "        if i_min != i:\n",
    "            valTemp=t[i_min]\n",
    "            t[i_min] = t[i]\n",
    "            t[i]=valTemp\n",
    "        i=i+1\n",
    "        print(t)\n",
    "    return t\n",
    "    \n",
    "t1=creerTableau()\n",
    "print(t1)\n",
    "triSelection(t1)"
   ]
  },
  {
   "cell_type": "code",
   "execution_count": null,
   "metadata": {},
   "outputs": [],
   "source": []
  }
 ],
 "metadata": {
  "kernelspec": {
   "display_name": "Python 3",
   "language": "python",
   "name": "python3"
  },
  "language_info": {
   "codemirror_mode": {
    "name": "ipython",
    "version": 2
   },
   "file_extension": ".py",
   "mimetype": "text/x-python",
   "name": "python",
   "nbconvert_exporter": "python",
   "pygments_lexer": "ipython2",
   "version": "2.7.17"
  }
 },
 "nbformat": 4,
 "nbformat_minor": 2
}
