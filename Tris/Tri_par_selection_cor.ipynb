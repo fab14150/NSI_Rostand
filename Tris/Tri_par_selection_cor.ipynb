{
 "cells": [
  {
   "cell_type": "markdown",
   "metadata": {},
   "source": [
    "<h1><font color=\"red\"> Tri par sélection </font></h1>"
   ]
  },
  {
   "cell_type": "markdown",
   "metadata": {},
   "source": [
    "<p>Vous allez utiliser ce notebook pour écrire votre script python correspondant à l'algorithme du tri par sélection.\n",
    "Puis nous étudierons les temps de calcul suivant la longueur des tableaux. </p>"
   ]
  },
  {
   "cell_type": "markdown",
   "metadata": {},
   "source": [
    "## 1) Création d'un tableau non trié"
   ]
  },
  {
   "cell_type": "code",
   "execution_count": 5,
   "metadata": {},
   "outputs": [],
   "source": [
    "from random import randint"
   ]
  },
  {
   "cell_type": "markdown",
   "metadata": {},
   "source": [
    "<p>Pour commencer vous aller écrire une fonction qui permet de créer un tableau de 5 éléments choisis de manière aléatoire entre 1 et 50.</p>"
   ]
  },
  {
   "cell_type": "code",
   "execution_count": 12,
   "metadata": {},
   "outputs": [
    {
     "name": "stdout",
     "output_type": "stream",
     "text": [
      "[11, 28, 25, 14, 29]\n"
     ]
    }
   ],
   "source": [
    "def creerTableau():\n",
    "    t=[]\n",
    "    for i in range(5):\n",
    "        x=randint(1,51)\n",
    "        t.append(x)\n",
    "    return t\n",
    "    \n",
    "t1=creerTableau()\n",
    "print(t1)"
   ]
  },
  {
   "cell_type": "markdown",
   "metadata": {},
   "source": [
    "## 2) Script Python du tri par sélection"
   ]
  },
  {
   "cell_type": "markdown",
   "metadata": {},
   "source": [
    "<p><font color=\"red\"><strong>ATTENTION</strong> : en Python, contrairement au langage naturel, les tableaux sont numérotés à partir de 0...</font></p>"
   ]
  },
  {
   "cell_type": "code",
   "execution_count": 13,
   "metadata": {},
   "outputs": [
    {
     "name": "stdout",
     "output_type": "stream",
     "text": [
      "[1, 51, 18, 8, 24]\n"
     ]
    },
    {
     "data": {
      "text/plain": [
       "[1, 8, 18, 24, 51]"
      ]
     },
     "execution_count": 13,
     "metadata": {},
     "output_type": "execute_result"
    }
   ],
   "source": [
    "def triSelection(t):\n",
    "    #écrivez ici votre code python\n",
    "    i=0\n",
    "    while i <= len(t)-2:\n",
    "        valTemp=0\n",
    "        j=i+1\n",
    "        i_min = i\n",
    "        while j <= len(t)-1:\n",
    "            if t[j] < t[i_min]:\n",
    "                i_min = j\n",
    "            j=j+1\n",
    "        if i_min != i:\n",
    "            valTemp=t[i_min]\n",
    "            t[i_min] = t[i]\n",
    "            t[i]=valTemp\n",
    "        i=i+1\n",
    "    return t\n",
    "    \n",
    "t1=creerTableau()\n",
    "print(t1)\n",
    "triSelection(t1)"
   ]
  },
  {
   "cell_type": "markdown",
   "metadata": {},
   "source": [
    "## 3) Temps de calcul"
   ]
  },
  {
   "cell_type": "markdown",
   "metadata": {},
   "source": [
    "Vous allez calculer le temps de calcul de la fonction <code>triSelection</code> sur plusieurs tableaux de tailles croissantes."
   ]
  },
  {
   "cell_type": "markdown",
   "metadata": {},
   "source": [
    "### 3.1. Préparation des tableaux"
   ]
  },
  {
   "cell_type": "markdown",
   "metadata": {},
   "source": [
    "Compléter la cellule suivante pour créer, en utilisant la méthode par compréhension, les tableaux aléatoires demandés."
   ]
  },
  {
   "cell_type": "code",
   "execution_count": 4,
   "metadata": {},
   "outputs": [],
   "source": [
    "#génération d'un tableau de 100 entiers aléatoires entre 1 et 100\n",
    "t1 = [randint(1,100) for i in range(100)]\n",
    "#génération d'un tableau de 200 entiers aléatoires entre 1 et 500\n",
    "t2 = [randint(1,500) for i in range(200)]\n",
    "#génération d'un tableau de 500 entiers aléatoires entre 1 et 1000\n",
    "t3 = [randint(1,1000) for i in range(500)]\n",
    "#génération d'un tableau de 1000 entiers aléatoires entre 1 et 3000\n",
    "t4 = [randint(1,3000) for i in range(1000)]\n",
    "#génération d'un tableau de 10000 entiers aléatoires entre 1 et 50000\n",
    "t5 = [randint(1,50000) for i in range(10000)]\n"
   ]
  },
  {
   "cell_type": "markdown",
   "metadata": {},
   "source": [
    "### 3.2. Mesures du temps d'exécution"
   ]
  },
  {
   "cell_type": "markdown",
   "metadata": {},
   "source": [
    "On peut utiliser la fonction <code>perf_counter</code> du module time pour mesurer le temps d'exécution.\n",
    "Par défaut, les valeurs sont en secondes. Il est conseillé de multiplier par 1000 pour avoir des millisecondes, ce qui correspond plus aux ordres de grandeurs pour les petits tableaux."
   ]
  },
  {
   "cell_type": "code",
   "execution_count": 5,
   "metadata": {},
   "outputs": [],
   "source": [
    "from time import perf_counter"
   ]
  },
  {
   "cell_type": "code",
   "execution_count": 2,
   "metadata": {},
   "outputs": [
    {
     "ename": "NameError",
     "evalue": "name 'perf_counter' is not defined",
     "output_type": "error",
     "traceback": [
      "\u001b[0;31m---------------------------------------------------------------------------\u001b[0m",
      "\u001b[0;31mNameError\u001b[0m                                 Traceback (most recent call last)",
      "\u001b[0;32m<ipython-input-2-a93989e82444>\u001b[0m in \u001b[0;36m<module>\u001b[0;34m()\u001b[0m\n\u001b[0;32m----> 1\u001b[0;31m \u001b[0mtime1_start\u001b[0m\u001b[0;34m=\u001b[0m \u001b[0mperf_counter\u001b[0m\u001b[0;34m(\u001b[0m\u001b[0;34m)\u001b[0m\u001b[0;34m\u001b[0m\u001b[0m\n\u001b[0m\u001b[1;32m      2\u001b[0m \u001b[0mresultat\u001b[0m \u001b[0;34m=\u001b[0m \u001b[0mtriSelection\u001b[0m\u001b[0;34m(\u001b[0m\u001b[0;34m[\u001b[0m\u001b[0;36m6\u001b[0m\u001b[0;34m,\u001b[0m\u001b[0;36m5\u001b[0m\u001b[0;34m,\u001b[0m\u001b[0;36m4\u001b[0m\u001b[0;34m,\u001b[0m\u001b[0;36m3\u001b[0m\u001b[0;34m,\u001b[0m\u001b[0;36m2\u001b[0m\u001b[0;34m,\u001b[0m\u001b[0;36m1\u001b[0m\u001b[0;34m]\u001b[0m\u001b[0;34m)\u001b[0m\u001b[0;34m\u001b[0m\u001b[0m\n\u001b[1;32m      3\u001b[0m \u001b[0mtime2_stop\u001b[0m\u001b[0;34m=\u001b[0m \u001b[0mperf_counter\u001b[0m\u001b[0;34m(\u001b[0m\u001b[0;34m)\u001b[0m\u001b[0;34m\u001b[0m\u001b[0m\n\u001b[1;32m      4\u001b[0m \u001b[0;32mprint\u001b[0m\u001b[0;34m(\u001b[0m\u001b[0;34m(\u001b[0m\u001b[0mtime2_stop\u001b[0m\u001b[0;34m-\u001b[0m\u001b[0mtime1_start\u001b[0m\u001b[0;34m)\u001b[0m\u001b[0;34m*\u001b[0m\u001b[0;36m1000\u001b[0m\u001b[0;34m)\u001b[0m\u001b[0;34m\u001b[0m\u001b[0m\n",
      "\u001b[0;31mNameError\u001b[0m: name 'perf_counter' is not defined"
     ]
    }
   ],
   "source": [
    "time1_start= perf_counter()\n",
    "resultat = triSelection([6,5,4,3,2,1])\n",
    "time2_stop= perf_counter()\n",
    "print((time2_stop-time1_start)*1000)"
   ]
  },
  {
   "cell_type": "markdown",
   "metadata": {},
   "source": [
    "<p>En utilisant la cellule ci-dessous et le programme ci-dessus, mesurez les temps d'exécution (en millisecondes) pour les tableaux t1 à t5 construits plus haut.\n",
    "Notez vos résultats.</p>\n",
    "<ol>Questions :\n",
    "<li>Entre t3 et t4, la taille est multipliée par 2. Par combien est multiplié le temps de calcul entre t3 et t4 ?<br>\n",
    "Trouvez une relation entre la variation de la taille et la variation du temps de calcul.</li>\n",
    "<li>Même question entre t4 et t5 où la taille est multipliée par 10.</li>\n",
    "</ol>"
   ]
  },
  {
   "cell_type": "code",
   "execution_count": 3,
   "metadata": {},
   "outputs": [
    {
     "ename": "NameError",
     "evalue": "name 'perf_counter' is not defined",
     "output_type": "error",
     "traceback": [
      "\u001b[0;31m---------------------------------------------------------------------------\u001b[0m",
      "\u001b[0;31mNameError\u001b[0m                                 Traceback (most recent call last)",
      "\u001b[0;32m<ipython-input-3-b2f7deca9356>\u001b[0m in \u001b[0;36m<module>\u001b[0;34m()\u001b[0m\n\u001b[0;32m----> 1\u001b[0;31m \u001b[0mtime1_start\u001b[0m\u001b[0;34m=\u001b[0m \u001b[0mperf_counter\u001b[0m\u001b[0;34m(\u001b[0m\u001b[0;34m)\u001b[0m\u001b[0;34m\u001b[0m\u001b[0m\n\u001b[0m\u001b[1;32m      2\u001b[0m \u001b[0mresultat\u001b[0m \u001b[0;34m=\u001b[0m \u001b[0mtriSelection\u001b[0m\u001b[0;34m(\u001b[0m\u001b[0mt5\u001b[0m\u001b[0;34m)\u001b[0m\u001b[0;34m\u001b[0m\u001b[0m\n\u001b[1;32m      3\u001b[0m \u001b[0mtime2_stop\u001b[0m\u001b[0;34m=\u001b[0m \u001b[0mperf_counter\u001b[0m\u001b[0;34m(\u001b[0m\u001b[0;34m)\u001b[0m\u001b[0;34m\u001b[0m\u001b[0m\n\u001b[1;32m      4\u001b[0m \u001b[0;32mprint\u001b[0m\u001b[0;34m(\u001b[0m\u001b[0;34m(\u001b[0m\u001b[0mtime2_stop\u001b[0m\u001b[0;34m-\u001b[0m\u001b[0mtime1_start\u001b[0m\u001b[0;34m)\u001b[0m\u001b[0;34m*\u001b[0m\u001b[0;36m1000\u001b[0m\u001b[0;34m)\u001b[0m\u001b[0;34m\u001b[0m\u001b[0m\n",
      "\u001b[0;31mNameError\u001b[0m: name 'perf_counter' is not defined"
     ]
    }
   ],
   "source": [
    "time1_start= perf_counter()\n",
    "resultat = triSelection(t5)\n",
    "time2_stop= perf_counter()\n",
    "print((time2_stop-time1_start)*1000)"
   ]
  },
  {
   "cell_type": "markdown",
   "metadata": {},
   "source": [
    "### 3.3.Tracé des temps d'exécution"
   ]
  },
  {
   "cell_type": "code",
   "execution_count": 8,
   "metadata": {},
   "outputs": [],
   "source": [
    "#génération de tableaux aléatoires de tailles croissantes\n",
    "tableaux = []\n",
    "liste_tailles = []\n",
    "for i in range(1,101):\n",
    "    taille = 100*i\n",
    "    #print(taille)\n",
    "    liste_tailles.append(taille)\n",
    "    t = [randint(1,100000) for i in range(taille)]\n",
    "    tableaux.append(t)"
   ]
  },
  {
   "cell_type": "code",
   "execution_count": 4,
   "metadata": {},
   "outputs": [
    {
     "ename": "NameError",
     "evalue": "name 'tableaux' is not defined",
     "output_type": "error",
     "traceback": [
      "\u001b[0;31m---------------------------------------------------------------------------\u001b[0m",
      "\u001b[0;31mNameError\u001b[0m                                 Traceback (most recent call last)",
      "\u001b[0;32m<ipython-input-4-9c2d8221529e>\u001b[0m in \u001b[0;36m<module>\u001b[0;34m()\u001b[0m\n\u001b[1;32m      1\u001b[0m \u001b[0mliste_temps\u001b[0m \u001b[0;34m=\u001b[0m \u001b[0;34m[\u001b[0m\u001b[0;34m]\u001b[0m\u001b[0;34m\u001b[0m\u001b[0m\n\u001b[0;32m----> 2\u001b[0;31m \u001b[0;32mfor\u001b[0m \u001b[0mt\u001b[0m \u001b[0;32min\u001b[0m \u001b[0mtableaux\u001b[0m\u001b[0;34m:\u001b[0m\u001b[0;34m\u001b[0m\u001b[0m\n\u001b[0m\u001b[1;32m      3\u001b[0m     \u001b[0mtime1_start\u001b[0m\u001b[0;34m=\u001b[0m \u001b[0mperf_counter\u001b[0m\u001b[0;34m(\u001b[0m\u001b[0;34m)\u001b[0m\u001b[0;34m\u001b[0m\u001b[0m\n\u001b[1;32m      4\u001b[0m     \u001b[0mresultat\u001b[0m \u001b[0;34m=\u001b[0m \u001b[0mtriSelection\u001b[0m\u001b[0;34m(\u001b[0m\u001b[0mt\u001b[0m\u001b[0;34m)\u001b[0m\u001b[0;34m\u001b[0m\u001b[0m\n\u001b[1;32m      5\u001b[0m     \u001b[0mtime2_stop\u001b[0m\u001b[0;34m=\u001b[0m \u001b[0mperf_counter\u001b[0m\u001b[0;34m(\u001b[0m\u001b[0;34m)\u001b[0m\u001b[0;34m\u001b[0m\u001b[0m\n",
      "\u001b[0;31mNameError\u001b[0m: name 'tableaux' is not defined"
     ]
    }
   ],
   "source": [
    "liste_temps = []\n",
    "for t in tableaux:\n",
    "    time1_start= perf_counter()\n",
    "    resultat = triSelection(t)\n",
    "    time2_stop= perf_counter()\n",
    "    liste_temps.append((time2_stop-time1_start)*1000)"
   ]
  },
  {
   "cell_type": "markdown",
   "metadata": {},
   "source": [
    "### Tracé de la courbe"
   ]
  },
  {
   "cell_type": "markdown",
   "metadata": {},
   "source": [
    "On commence par importer la bibliothèque matplotlib. Puis on ajoute une 2e ligne pour indiquer que le tracé apparaitra en ligne dans le notebook."
   ]
  },
  {
   "cell_type": "code",
   "execution_count": 10,
   "metadata": {},
   "outputs": [],
   "source": [
    "import matplotlib.pyplot as plt\n",
    "%matplotlib inline"
   ]
  },
  {
   "cell_type": "code",
   "execution_count": 11,
   "metadata": {},
   "outputs": [
    {
     "data": {
      "image/png": "[encoded data removed]",
      "text/plain": [
       "<matplotlib.figure.Figure at 0xaf39e3ec>"
      ]
     },
     "metadata": {},
     "output_type": "display_data"
    }
   ],
   "source": [
    "#les abscisses sont les tailles des tableaux (liste_tailles)\n",
    "#les ordonnées sont les temps de calcul\n",
    "plt.ion()\n",
    "\n",
    "plt.plot(liste_tailles,liste_temps)\n",
    "plt.show()"
   ]
  },
  {
   "cell_type": "code",
   "execution_count": null,
   "metadata": {},
   "outputs": [],
   "source": []
  }
 ],
 "metadata": {
  "kernelspec": {
   "display_name": "Python 3",
   "language": "python",
   "name": "python3"
  },
  "language_info": {
   "codemirror_mode": {
    "name": "ipython",
    "version": 2
   },
   "file_extension": ".py",
   "mimetype": "text/x-python",
   "name": "python",
   "nbconvert_exporter": "python",
   "pygments_lexer": "ipython2",
   "version": "2.7.17"
  }
 },
 "nbformat": 4,
 "nbformat_minor": 2
}
