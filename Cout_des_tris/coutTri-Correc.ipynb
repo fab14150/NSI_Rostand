{
 "cells": [
  {
   "cell_type": "markdown",
   "metadata": {
    "slideshow": {
     "slide_type": "slide"
    }
   },
   "source": [
    "# I. Coût des méthodes de tri"
   ]
  },
  {
   "cell_type": "markdown",
   "metadata": {
    "slideshow": {
     "slide_type": "fragment"
    }
   },
   "source": [
    "Tout d'abord, création d'une liste non triée de $n$ éléments compris entre 1 et 10000\n"
   ]
  },
  {
   "cell_type": "code",
   "execution_count": 1,
   "metadata": {
    "scrolled": true,
    "slideshow": {
     "slide_type": "fragment"
    }
   },
   "outputs": [
    {
     "name": "stdout",
     "output_type": "stream",
     "text": [
      "[7987, 1987, 835, 965, 4712, 947, 4417, 182, 3065, 5628, 3795, 5302, 7225, 2198, 4954]\n"
     ]
    }
   ],
   "source": [
    "from random import randint\n",
    "def nouv_liste(n):\n",
    "    return [randint(1,10000) for _ in range(n)]\n",
    "\n",
    "print(nouv_liste(15))"
   ]
  },
  {
   "cell_type": "markdown",
   "metadata": {
    "slideshow": {
     "slide_type": "slide"
    }
   },
   "source": [
    "## 1. Le tri par insertion"
   ]
  },
  {
   "cell_type": "markdown",
   "metadata": {
    "slideshow": {
     "slide_type": "skip"
    }
   },
   "source": [
    "Le **coût d'un algorithme** est le nombre d'opérations élémentaires (arithmétiques ou logiques) ainsi que le nombre d'affectations nécessaires.\n",
    "\n",
    "Compléter l'algorithme suivant pour qu'il comptabilise son coût *(le coût n'est pas 18)*\n"
   ]
  },
  {
   "cell_type": "code",
   "execution_count": 2,
   "metadata": {
    "scrolled": true,
    "slideshow": {
     "slide_type": "fragment"
    }
   },
   "outputs": [
    {
     "name": "stdout",
     "output_type": "stream",
     "text": [
      "Cout du tri par insertion 10         51\n",
      "Cout du tri par insertion 100      5097\n",
      "Cout du tri par insertion 1000   502735\n"
     ]
    }
   ],
   "source": [
    "def tri_insertion(liste):\n",
    "    cout=0\n",
    "    for i in range(1,len(liste)):\n",
    "        el=liste[i]\n",
    "        j=i-1\n",
    "        cout=cout+2             #deux affectations\n",
    "        while j>=0 and liste[j]>el:\n",
    "            liste[j+1]=liste[j]\n",
    "            j-=1\n",
    "            cout=cout+2             #deux affectations\n",
    "        liste[j+1]=el\n",
    "        cout=cout+1            #une affectation\n",
    "    return cout\n",
    "        \n",
    "liste=nouv_liste(10)\n",
    "print(f\"Cout du tri par insertion 10   {tri_insertion(liste) :>8}\")\n",
    "liste=nouv_liste(100)\n",
    "print(f\"Cout du tri par insertion 100  {tri_insertion(liste):>8}\")\n",
    "liste=nouv_liste(1000)\n",
    "print(f\"Cout du tri par insertion 1000 { tri_insertion(liste):>8}\" )\n",
    "    "
   ]
  },
  {
   "cell_type": "markdown",
   "metadata": {
    "slideshow": {
     "slide_type": "slide"
    }
   },
   "source": [
    "**Réponse**\n",
    "\n",
    "La boucle for: la variable $i$ va prendre successivement les valeurs de 1 à $n-1$: $n-1$ itérations\n",
    "- Pour chaque valeur de $i$ il y a trois affectations et une boucle while\n",
    "\n",
    "- Dans la boucle while, la variable $j$ prend successivement les valeurs $i-1$, $i-2$, ... jusqu'à 0 dans le cas le plus défavorable, il y a donc $i$ itérations dans lesquelles il y a deux affectations,\n",
    "\n",
    "- Pour un i donné, il y a $3 + 2i$  affectations\n",
    "\n",
    "Au total le nombre d'affectations vaut:\n",
    "\n",
    "$\\underbrace{3+2\\times 1}_{i=1}+\\underbrace{3+2\\times 2}_{i=2} +\\underbrace{3+2\\times 3}_{i=3}+\\dots \\underbrace{3+2\\times (n-1)}_{i=n-1}$\n",
    "\n",
    "$\\phantom{000000}=3(n-1)+2(1+2+3+\\dots +n-1)=3(n-1)+2\\dfrac{(n-1)n}{2}$\n",
    "\n",
    "$\\phantom{000000}=(n-1)(3+n)$\n",
    "\n",
    "\n",
    "\n",
    "Le coût de l'algorithme de tri par insertion est: **quadratique**"
   ]
  },
  {
   "cell_type": "markdown",
   "metadata": {
    "slideshow": {
     "slide_type": "slide"
    }
   },
   "source": [
    "## 2. Tri par selection"
   ]
  },
  {
   "cell_type": "markdown",
   "metadata": {
    "slideshow": {
     "slide_type": "skip"
    }
   },
   "source": [
    "Compléter l'algorithme suivant pour qu'il comptabilise son coût."
   ]
  },
  {
   "cell_type": "code",
   "execution_count": 3,
   "metadata": {
    "scrolled": true,
    "slideshow": {
     "slide_type": "fragment"
    }
   },
   "outputs": [
    {
     "name": "stdout",
     "output_type": "stream",
     "text": [
      "Cout du tri par insertion 10         41\n",
      "Cout du tri par insertion 100       693\n",
      "Cout du tri par insertion 1000     9443\n"
     ]
    }
   ],
   "source": [
    "def tri_selection(liste):  \n",
    "    cout=0\n",
    "    for i in range(len(liste)-1):\n",
    "        min=i\n",
    "        cout=cout+ 1                          #une affectation\n",
    "        for j in range(i+1,len(liste)):\n",
    "            if liste[j]<liste[min]:\n",
    "                min=j\n",
    "                cout=cout +1               #une affectation\n",
    "        if min!=i:\n",
    "            temp=liste[min]\n",
    "            liste[min]=liste[i]\n",
    "            liste[i]=temp\n",
    "            cout=cout +3                #trois affectations\n",
    "    return cout\n",
    "            \n",
    "liste=nouv_liste(10)\n",
    "print(f\"Cout du tri par insertion 10   {tri_selection(liste) :>8}\")\n",
    "liste=nouv_liste(100)\n",
    "print(f\"Cout du tri par insertion 100  {tri_selection(liste):>8}\")\n",
    "liste=nouv_liste(1000)\n",
    "print(f\"Cout du tri par insertion 1000 { tri_selection(liste):>8}\" )"
   ]
  },
  {
   "cell_type": "markdown",
   "metadata": {
    "slideshow": {
     "slide_type": "slide"
    }
   },
   "source": [
    "**Réponse**\n",
    "La première boucle for: la variable $i$ va prendre successivement les valeurs de 0 à $n-2$, soit $n-1$ itérations\n",
    "- Pour chaque valeur de $i$ il y a une boucle for, où $j$ prend successivement les valeurs $i+1$, $i+2$, ... jusqu'à $n$, il y a donc $n-i$ itérations dans lesquelles il y a une affectation\n",
    "\n",
    "- Il y a ensuite, dans le pire des cas trois affectations\n",
    "\n",
    "- Donc pour un i donné, il y a $3 + n-i$  affectations\n",
    "\n",
    "Au total le nombre d'affectations vaut:\n",
    "\n",
    "$\n",
    "\\underbrace{3+n}_{i=0}+\\underbrace{3+n-1}_{i=1} +\\underbrace{3+n-2}_{i=2}+\\dots \\underbrace{3+n-(n-1)}_{i=n-1}$\n",
    "\n",
    "\n",
    "$\\phantom{000000}=3(n-1)+(1+2+3+\\dots +n-1)=3(n-1)+\\dfrac{(n-1)n}{2}$\n",
    "\n",
    "$\\phantom{000000}=\\dfrac{(n-1)(6+n)}{2}$\n",
    "\n",
    "\n",
    "Le coût de l'algorithme de tri par insertion est: **quadratique**"
   ]
  },
  {
   "cell_type": "markdown",
   "metadata": {
    "slideshow": {
     "slide_type": "slide"
    }
   },
   "source": [
    "# II. Temps moyen d'exécution"
   ]
  },
  {
   "cell_type": "markdown",
   "metadata": {
    "slideshow": {
     "slide_type": "fragment"
    }
   },
   "source": [
    "Jupyter permet l'utilisation de la fonction [magique](https://ipython.org/ipython-doc/dev/interactive/magics.html#magic-timeit) %timeit, qui mesure le temps moyen d'un code sur un très grand nombre d'exécutions.\n",
    "\n",
    "On va mesurer le temps moyen d'exécution de chaque tri pour une liste de 100, 1000 puis 10000 élements.\n",
    "\n",
    "On va s'intéresser à l'ordre de grandeur des temps trouvés c'est à dire à la puissance de 10 du temps en secondes\n",
    "\n",
    "Par exemple : l'ordre de grandeur de  $3,75 \\mu s$ est $10^{-6} s$, celui de  $456,1 \\mu s$ est  $10^{-4} s$ ou encore celui de  $13,2 ms$ est  $10^{-2}$\n",
    "\n",
    "Vous exécuterez les deux cellules suivantes puis compléterez les questions"
   ]
  },
  {
   "cell_type": "markdown",
   "metadata": {
    "slideshow": {
     "slide_type": "slide"
    }
   },
   "source": [
    "### tri par insertion"
   ]
  },
  {
   "cell_type": "code",
   "execution_count": 4,
   "metadata": {
    "scrolled": true,
    "slideshow": {
     "slide_type": "skip"
    }
   },
   "outputs": [],
   "source": [
    "def tri_insertion(liste):\n",
    "    for i in range(1,len(liste)):\n",
    "        el=liste[i]\n",
    "        j=i-1\n",
    "        while j>=0 and liste[j]>el:\n",
    "            liste[j+1]=liste[j]\n",
    "            j-=1\n",
    "        liste[j+1]=el"
   ]
  },
  {
   "cell_type": "code",
   "execution_count": 5,
   "metadata": {
    "slideshow": {
     "slide_type": "fragment"
    }
   },
   "outputs": [
    {
     "name": "stdout",
     "output_type": "stream",
     "text": [
      "443 µs ± 5.86 µs per loop (mean ± std. dev. of 7 runs, 1000 loops each)\n",
      "36.7 ms ± 834 µs per loop (mean ± std. dev. of 7 runs, 10 loops each)\n",
      "3.67 s ± 26.1 ms per loop (mean ± std. dev. of 7 runs, 1 loop each)\n"
     ]
    }
   ],
   "source": [
    "%timeit tri_insertion(nouv_liste(100))\n",
    "%timeit tri_insertion(nouv_liste(1000))\n",
    "%timeit tri_insertion(nouv_liste(10000))"
   ]
  },
  {
   "cell_type": "markdown",
   "metadata": {
    "slideshow": {
     "slide_type": "fragment"
    }
   },
   "source": [
    "### tri par selection"
   ]
  },
  {
   "cell_type": "code",
   "execution_count": 6,
   "metadata": {
    "scrolled": true,
    "slideshow": {
     "slide_type": "skip"
    }
   },
   "outputs": [],
   "source": [
    "def tri_selection(liste):  \n",
    "    for i in range(len(liste)-1):\n",
    "        min=i\n",
    "        for j in range(i+1,len(liste)):\n",
    "            if liste[j]<liste[min]:\n",
    "                min=j\n",
    "        if min!=i:\n",
    "            temp=liste[min]\n",
    "            liste[min]=liste[i]\n",
    "            liste[i]=temp\n"
   ]
  },
  {
   "cell_type": "code",
   "execution_count": 7,
   "metadata": {
    "slideshow": {
     "slide_type": "fragment"
    }
   },
   "outputs": [
    {
     "name": "stdout",
     "output_type": "stream",
     "text": [
      "404 µs ± 908 ns per loop (mean ± std. dev. of 7 runs, 1000 loops each)\n",
      "33.1 ms ± 106 µs per loop (mean ± std. dev. of 7 runs, 10 loops each)\n",
      "3 s ± 10.4 ms per loop (mean ± std. dev. of 7 runs, 1 loop each)\n"
     ]
    }
   ],
   "source": [
    "%timeit tri_selection(nouv_liste(100))\n",
    "%timeit tri_selection(nouv_liste(1000))\n",
    "%timeit tri_selection(nouv_liste(10000))"
   ]
  },
  {
   "cell_type": "markdown",
   "metadata": {
    "slideshow": {
     "slide_type": "slide"
    }
   },
   "source": [
    "**Réponse**\n",
    "<ol>\n",
    "    <li>Quel tri semble-t-il le plus efficace ?: Le tri par selection semble le plus efficace</li>\n",
    "    <li>Comparer leurs ordres de grandeurs : \n",
    "        <ul>\n",
    "            <li>pour 100 éléments, l'ordre de grandeur est   $10^{-4}$</li>\n",
    "            <li>pour 1000 éléments, l'ordre de grandeur est  $10^{-2}$</li>\n",
    "            <li>pour 10000 éléments, l'ordre de grandeur est $10^{0}$</li>\n",
    "        </ul>\n",
    "        l'ordre de grandeur des temps est le même pour chacun des tris\n",
    "    </li>\n",
    "    <li><p>Que peut-on dire de l'évolution des ordres de grandeur en fonction du nombre d'éléments de la liste?</p>\n",
    "    <p>Lorsque le nombre d'éléments est multiplié par 10, le temps est multiplié par 100.    </p>\n",
    "    </li>\n",
    "</ol>\n"
   ]
  },
  {
   "cell_type": "markdown",
   "metadata": {
    "slideshow": {
     "slide_type": "slide"
    }
   },
   "source": [
    "## La méthode sort\n",
    " La méthode sort est une méthode de tri plus rapide des listes "
   ]
  },
  {
   "cell_type": "code",
   "execution_count": 8,
   "metadata": {
    "scrolled": true,
    "slideshow": {
     "slide_type": "fragment"
    }
   },
   "outputs": [
    {
     "name": "stdout",
     "output_type": "stream",
     "text": [
      "123 µs ± 2.6 µs per loop (mean ± std. dev. of 7 runs, 10000 loops each)\n",
      "1.26 ms ± 1.2 µs per loop (mean ± std. dev. of 7 runs, 1000 loops each)\n",
      "13.2 ms ± 16.8 µs per loop (mean ± std. dev. of 7 runs, 100 loops each)\n",
      "139 ms ± 182 µs per loop (mean ± std. dev. of 7 runs, 10 loops each)\n",
      "1.48 s ± 1.81 ms per loop (mean ± std. dev. of 7 runs, 1 loop each)\n"
     ]
    }
   ],
   "source": [
    "%timeit nouv_liste(100).sort()\n",
    "%timeit nouv_liste(1000).sort()\n",
    "%timeit nouv_liste(10000).sort()\n",
    "%timeit nouv_liste(100000).sort()\n",
    "%timeit nouv_liste(1000000).sort()"
   ]
  },
  {
   "cell_type": "markdown",
   "metadata": {
    "slideshow": {
     "slide_type": "slide"
    }
   },
   "source": [
    "**Réponse**\n",
    "\n",
    "Que peut-on dire de l'évolution des ordres de grandeur en fonction du nombre d'éléments de la liste?\n",
    "\n",
    "- pour 100 éléments, l'ordre de grandeur est $10^{-4}$\n",
    "- pour 1000 éléments, l'ordre de grandeur est $10^{-3}$\n",
    "- pour 10000 éléments, l'ordre de grandeur est $10^{-2}$\n",
    "- pour 100000 éléments, l'ordre de grandeur est $10^{-1}$\n",
    "- pour 1000000 éléments, l'ordre de grandeur est $10^{-0}$\n",
    "\n",
    "L'évolution de l'ordre de grandeur semble linéaire"
   ]
  },
  {
   "cell_type": "markdown",
   "metadata": {
    "slideshow": {
     "slide_type": "slide"
    }
   },
   "source": [
    "# III. Comparaison graphique"
   ]
  },
  {
   "cell_type": "markdown",
   "metadata": {
    "slideshow": {
     "slide_type": "fragment"
    }
   },
   "source": [
    "Nous allons mesurer le temps d'exécution de chacun des tris pour 100 listes de taille croissante.\n",
    "\n",
    "Pour cela nous allons créer une liste contenant ces 100 listes et une autre contenant la taille de ces listes."
   ]
  },
  {
   "cell_type": "code",
   "execution_count": 13,
   "metadata": {
    "scrolled": true,
    "slideshow": {
     "slide_type": "fragment"
    }
   },
   "outputs": [],
   "source": [
    "tab = []\n",
    "liste_tailles = []\n",
    "for i in range(1,101):\n",
    "    taille = 100*i\n",
    "    liste_tailles.append(taille)\n",
    "    t = [randint(1,100_000) for i in range(taille)]\n",
    "    tab.append(t)"
   ]
  },
  {
   "cell_type": "markdown",
   "metadata": {
    "slideshow": {
     "slide_type": "slide"
    }
   },
   "source": [
    "Ensuite, nous créons une fonction qui renvoie la liste des temps d'exécution des 100 listes créées précédemment pour un tri donné."
   ]
  },
  {
   "cell_type": "code",
   "execution_count": 10,
   "metadata": {
    "scrolled": true,
    "slideshow": {
     "slide_type": "fragment"
    }
   },
   "outputs": [],
   "source": [
    "from time import *\n",
    "\n",
    "def liste_temps(tri):\n",
    "    \"\"\"mesure le temps d'exécution de la fonction tri\n",
    "    prend en argument une méthode de tri: tri_selection,tri_insertion, sorted\n",
    "    renvoie une liste des temps d'exécution de chaque liste de la liste tableaux\"\"\"\n",
    "    lste_temps=[]\n",
    "    for tab in tableaux:\n",
    "        time1 =perf_counter()\n",
    "        tri(tab)\n",
    "        time2 = perf_counter()\n",
    "        lste_temps.append(1000*(time2 - time1))\n",
    "    return lste_temps\n"
   ]
  },
  {
   "cell_type": "code",
   "execution_count": 30,
   "metadata": {
    "slideshow": {
     "slide_type": "skip"
    }
   },
   "outputs": [
    {
     "data": {
      "image/png": "[encoded data removed]",
      "text/plain": [
       "<Figure size 432x288 with 1 Axes>"
      ]
     },
     "metadata": {
      "needs_background": "light"
     },
     "output_type": "display_data"
    }
   ],
   "source": [
    "import matplotlib.pyplot as plt\n",
    "from copy import deepcopy\n",
    "%matplotlib inline\n",
    "plt.ion()\n",
    "\n",
    "#les abscisses sont les tailles des tableaux (liste_tailles)\n",
    "#les ordonnées seront les temps de calcul\n",
    "\n",
    "#def graphique():\n",
    "#copie de ce tableau\n",
    "tableaux=deepcopy(tab)\n",
    "#création des points pour le tri par insertion\n",
    "plt.plot(liste_tailles, liste_temps(tri_insertion),color=\"blue\", linewidth=1.0, linestyle=\"-\",label=\"insertion\")\n",
    "#création des points pour le tri par selection\n",
    "tableaux=deepcopy(tab)\n",
    "plt.plot(liste_tailles, liste_temps(tri_selection),color=\"red\", linewidth=1.0, linestyle=\"-\",label=\"selection\")\n",
    "#création des points pour le tri sorted\n",
    "tableaux=deepcopy(tab)\n",
    "plt.plot(liste_tailles, liste_temps(sorted),color=\"green\", linewidth=1.0, linestyle=\"-\",label=\"sorted\")\n",
    "plt.legend(loc='upper left')\n",
    "plt.show()"
   ]
  },
  {
   "cell_type": "code",
   "execution_count": 31,
   "metadata": {
    "slideshow": {
     "slide_type": "slide"
    }
   },
   "outputs": [],
   "source": [
    "def Tab():\n",
    "    tab = []\n",
    "    for i in range(1,101):\n",
    "        taille = 100*i\n",
    "        t = [randint(1,100_000) for i in range(taille)]\n",
    "        tab.append(t)\n",
    "    return tab\n",
    "\n",
    "def graphique():\n",
    "    #copie de ce tableau\n",
    "    tableaux=Tab()\n",
    "    #création des points pour le tri par insertion\n",
    "    plt.plot(liste_tailles, liste_temps(tri_insertion),color=\"blue\", linewidth=1.0, linestyle=\"-\",label=\"insertion\")\n",
    "    #création des points pour le tri par selection\n",
    "    tableaux=Tab()\n",
    "    plt.plot(liste_tailles, liste_temps(tri_selection),color=\"red\", linewidth=1.0, linestyle=\"-\",label=\"selection\")\n",
    "    #création des points pour le tri sorted\n",
    "    tableaux=Tab()\n",
    "    plt.plot(liste_tailles, liste_temps(sorted),color=\"green\", linewidth=1.0, linestyle=\"-\",label=\"sorted\")\n",
    "    plt.legend(loc='upper left')\n",
    "    plt.show()"
   ]
  },
  {
   "cell_type": "code",
   "execution_count": 32,
   "metadata": {
    "scrolled": true,
    "slideshow": {
     "slide_type": "slide"
    }
   },
   "outputs": [
    {
     "data": {
      "image/png": "[encoded data removed]",
      "text/plain": [
       "<Figure size 432x288 with 1 Axes>"
      ]
     },
     "metadata": {
      "needs_background": "light"
     },
     "output_type": "display_data"
    }
   ],
   "source": [
    "graphique()"
   ]
  }
 ],
 "metadata": {
  "celltoolbar": "Diaporama",
  "kernelspec": {
   "display_name": "Python 3",
   "language": "python",
   "name": "python3"
  },
  "language_info": {
   "codemirror_mode": {
    "name": "ipython",
    "version": 2
   },
   "file_extension": ".py",
   "mimetype": "text/x-python",
   "name": "python",
   "nbconvert_exporter": "python",
   "pygments_lexer": "ipython2",
   "version": "2.7.17"
  }
 },
 "nbformat": 4,
 "nbformat_minor": 4
}
