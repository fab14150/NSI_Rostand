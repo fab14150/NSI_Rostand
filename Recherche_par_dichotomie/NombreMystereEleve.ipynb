{
 "cells": [
  {
   "cell_type": "markdown",
   "metadata": {},
   "source": [
    "<h1> RECHERCHE DICHOTOMIQUE DANS UN TABLEAU TRIE </h1>"
   ]
  },
  {
   "cell_type": "markdown",
   "metadata": {},
   "source": [
    "<p>Nous avons vu dans le chapitre précédent deux méthodes pour trier un tableau. Le fait qu'un tableau soit trié,\n",
    "facilite de nombreuses opérations. L'une d'entre elle est la recherche d'un élément avec notamment la recherche par dichotomie.</p>\n",
    "<p>Dans ce notebook, vous allez à partir du jeu \"Le nombre mystère\" que vous connaissez tous, dans un  premier temps chercher 4 stratégies dont la méthode dichotomique pour trouver ce nombre mystère. Puis ensuite vous comparerez l'efficacité en terme de temps de ces 4 méthodes.</p>"
   ]
  },
  {
   "cell_type": "markdown",
   "metadata": {},
   "source": [
    "<h1>LE NOMBRE MYSTERE</h1>\n",
    "<h2>I. A vous de chercher</h2>\n",
    "<ul> Compléter la fonction nombre_mystere() qui :\n",
    "    <li> stocke un nombre aléatoire entre 0 et 1000 que l'utilisateur devra découvrir </li>\n",
    "    <li> demande à l'utilisateur de saisir une valeur entre 0 et 1000</li>\n",
    "    <li> indique si la valeur saisie est : la bonne, supérieure ou inférieure</li>\n",
    "    <li> si la valeur est la bonne, le jeu se termine en indiquant le nombre de tentatives, sinon il repropose une nouvelle saisie à l'utilisateur.\n",
    "</ul>\n"
   ]
  },
  {
   "cell_type": "code",
   "execution_count": null,
   "metadata": {},
   "outputs": [],
   "source": [
    "from random import randint \n",
    "\n",
    "def nombre_mystere():\n",
    "    \"\"\"Fonction qui fait découvrir un nombre\"\"\"\n",
    "    tentative=1\n",
    "    #Compléter avec votre code\n",
    "    \n",
    "    print(f\"vous avez trouvé le nombre mystème en {tentative} tentatives\")\n",
    "\n",
    "nombre_mystere()"
   ]
  },
  {
   "cell_type": "markdown",
   "metadata": {},
   "source": [
    "<h2>II. A la machine de chercher</h2>\n",
    "<p>Au lieu de faire jouer l'utilisateur, on va faire jouer l'ordinateur : l'utilisateur entre un nombre, puis l'ordinateur cherche ce nombre en tenant compte des réponses de l'utilisateur. On peut s'amuser à faire adopter à l'ordinateur différentes stratégies :</p>\n",
    "<h3>a) Première statégie : purement aléatoire </h3>\n",
    "<p> Compléter la fonction recherche_alea(nombre), qui prend comme argument le nombre qu'elle doit découvrir et qui :</p>\n",
    "<ul>\n",
    "    <li> prend un nombre au hasard entre 0 et 1000</li>\n",
    "    <li> teste si ce nombre est le bon </li>\n",
    "    <li> si c'est le cas, le jeu se termine en renvoyant le nombre de tentatives, sinon prend, de nouveau un nombre au hasard entre 0 et 1000  </li>\n",
    "</ul>"
   ]
  },
  {
   "cell_type": "code",
   "execution_count": null,
   "metadata": {},
   "outputs": [],
   "source": [
    "def recherche_alea(nombre):\n",
    "    \"\"\" renvoie le nombre de tentatives aléatoires pour trouver le nombre mystère \"\"\"\n",
    "    tentative=0\n",
    "    #Compléter avec votre code\n",
    "    \n",
    "    \n",
    "    return tentative\n",
    "\n",
    "##Pour tester\n",
    "recherche_alea(253)          "
   ]
  },
  {
   "cell_type": "markdown",
   "metadata": {},
   "source": [
    "<h3>b) Deuxième statégie : aléatoire gardant en mémoire les nombres déjà proposés</h3>\n",
    "<p> Compléter la fonction recherche_aleaMem(nombre), ci-dessous</p>\n",
    "<p>Chaque valeur proposée sera ajoutée dans une liste, pour ne plus être de nouveau testée.</p>"
   ]
  },
  {
   "cell_type": "code",
   "execution_count": null,
   "metadata": {},
   "outputs": [],
   "source": [
    "def recherche_aleaMem(nombre):\n",
    "        \"\"\" renvoie le nombre de tentatives aleatoires pour trouver le nombre mystère \n",
    "       en gardant en memoire les valeurs déjà testées \"\"\"\n",
    "    #Compléter avec votre code\n",
    "\n",
    "recherche_aleaMem(75)      "
   ]
  },
  {
   "cell_type": "markdown",
   "metadata": {},
   "source": [
    "<h3>c) Troisième stratégie : aléatoire mais limitée à l'intervalle de recherche donnée par l'utilisateur</h3>\n",
    "<p> Les valeurs sont choisies aléatoirement dans un intervalle [borne_min;borme_max]</p>\n",
    "<p> Au début du jeu, borne_min=0 et borne_max=1000</p>\n",
    "<p>   A chaque valeur proposée, on teste si elle est :</p>\n",
    "<ul>\n",
    "    <li> le nombre mystère : le jeu se termine en renvoyant le nombre de tentatives  </li>\n",
    "    <li> supérieure au nombre mystère, alors borne_max devient la valeur proposée </li>\n",
    "    <li> inférieure au nombre mystère, alors borne_min devient la valeur proposée </li>\n",
    "</ul> \n",
    "<p>Dans les deux derniers cas, une nouvelle valeur à tester est choisie aléatoirement dans l'intervalle [borne_min;borme_max]</p>"
   ]
  },
  {
   "cell_type": "markdown",
   "metadata": {},
   "source": [
    "<p> Par exemple le nombre mystère est 625</p>\n",
    "<ul>\n",
    "    <li> la valeur est choisie aléatoirement dans [0;1000] -> 264</li>\n",
    "    <li> 264 est inférieur à 625, la prochaine valeur est choisie aléatoirement dans [264;1000] -> 503</li>\n",
    "     <li> 503 est inférieur à 625, la prochaine valeur est choisie aléatoirement dans [503;1000] -> 857</li>\n",
    "    <li> 847 est supérieur à 625, la prochaine valeur est choisie aléatoirement dans [503;847] -> 583</li>\n",
    "    <li> 583 est inférieur à 625, la prochaine valeur est choisie aléatoirement dans [583;847] -> 583</li>\n",
    "    <li>etc...</li>\n",
    "</ul>\n",
    "    "
   ]
  },
  {
   "cell_type": "markdown",
   "metadata": {},
   "source": [
    "<p> Compléter la fonction recherche_aleaInterv(nombre), qui prend comme argument le nombre qu'elle doit découvrir et qui renvoie le nombre de tentatives pour le découvrir.</p>"
   ]
  },
  {
   "cell_type": "code",
   "execution_count": null,
   "metadata": {},
   "outputs": [],
   "source": [
    "def recherche_aleaInterv(nombre):\n",
    "    \"\"\" renvoie le nombre de tentatives aleatoires pour trouver le nombre mystère \n",
    "       en cherchant dans le bon intervalle\"\"\"\n",
    "    #Compléter avec votre code\n",
    "    \n",
    "        \n",
    "recherche_aleaInterv(105)"
   ]
  },
  {
   "cell_type": "markdown",
   "metadata": {},
   "source": [
    "<h3>d) Quatrième stratégie : par dichotomie</h3>\n",
    "<p> Le principe est le même qu'au c) sauf que la valeur proposée n'est plus choisie aléatoirement mais est \n",
    "la partie entière de la moyenne de borne_min et de borne_max.</p>\n",
    "<p>Compléter la fonction dichotomie(nombre), qui prend comme argument le nombre qu'elle doit découvrir et qui renvoie\n",
    "le nombre de tentatives pour le découvrir.</p>\n"
   ]
  },
  {
   "cell_type": "code",
   "execution_count": null,
   "metadata": {},
   "outputs": [],
   "source": [
    "def dichotomie(nombre):\n",
    "    #Compléter avec votre code\n",
    "    \n",
    "##Pour tester\n",
    "dichotomie(1)"
   ]
  },
  {
   "cell_type": "markdown",
   "metadata": {},
   "source": [
    "<h2>III. Comparaison des méthodes</h2>\n",
    "<h3>a) Nombre de tentatives moyen sur 1000 recherches</h3>\n",
    "<p> Compléter la fonction moyenne(methode), qui prend pour argument une méthode de recherche (recherche_alea, recherche_aleaMem, recherche_aleaInterv, dichotomie) et qui renvoie le nombre moyen de tentatives pour trouver un nombre mystère selon la méthode utilisée.</p>"
   ]
  },
  {
   "cell_type": "code",
   "execution_count": null,
   "metadata": {},
   "outputs": [],
   "source": [
    "def moyenne(methode):\n",
    "    #Compléter avec votre code\n",
    "\n",
    "#Pour Tester\n",
    "print(f\"Aléatoire pure: {moyenne(recherche_alea)} tentatives en moyenne\")\n",
    "print(f\"Aléatoire avec mémoire: {moyenne(recherche_aleaMem)} tentatives en moyenne\")\n",
    "print(f\"Aléatoire avec intervalle: {moyenne(recherche_aleaInterv)} tentatives en moyenne\")\n",
    "print(f\"Dichotomie: {moyenne(dichotomie)} tentatives en moyenne\")\n"
   ]
  },
  {
   "cell_type": "markdown",
   "metadata": {},
   "source": [
    "<h3>b) Durée moyenne de 1000 recherches</h3>\n",
    "<p> La fonction duree(methode) prend comme argument une méthode de recherche (recherche_alea, recherche_aleaMem, recherche_aleaInterv, dichotomie) et renvoie la durée en seconde du processus.</p>"
   ]
  },
  {
   "cell_type": "code",
   "execution_count": null,
   "metadata": {},
   "outputs": [],
   "source": [
    "from time import perf_counter\n",
    "\n",
    "def duree(methode):\n",
    "    \"\"\"Renvoie la durée d'une recherche \"\"\"\n",
    "    time1_start= perf_counter()\n",
    "    resultat = methode(randint(0,1000))\n",
    "    time2_stop= perf_counter()\n",
    "    return ((time2_stop-time1_start)*1000)\n",
    "\n",
    "#pour tester\n",
    "print(f\"la durée d'exécution d'une recherche avec recherche_alea est {duree(recherche_alea)} s\")\n",
    "print(f\"la durée d'exécution d'une recherche avec recherche_aleaMem est {duree(recherche_aleaMem)} s\")\n",
    "print(f\"la durée d'exécution d'une recherche avec recherche_aleaInterv est {duree(recherche_aleaInterv)} s\")\n",
    "print(f\"la durée d'exécution d'une recherche avec dichotomie est {duree(dichotomie)} s\")"
   ]
  },
  {
   "cell_type": "markdown",
   "metadata": {},
   "source": [
    "<p>Compléter la fonction duree_moyenne(methode) qui rend comme argument une méthode de recherche (recherche_alea, recherche_aleaMem, recherche_aleaInterv, dichotomie) et qui renvoie le temps moyen pour mille recherches en utilisant la fonction duree citée ci-dessus.</p> "
   ]
  },
  {
   "cell_type": "code",
   "execution_count": null,
   "metadata": {},
   "outputs": [],
   "source": [
    "def duree_moyenne(methode):\n",
    "    \"\"\"Renvoie la durée moyenne de 1000 recherches\"\"\"\n",
    "    #Compléter avec votre code\n",
    "\n",
    "#Pour tester}\n",
    "print(f\"la durée moyenne d'exécution d'une recherche avec recherche_alea est {duree_moyenne(recherche_alea)} s\")\n",
    "print(f\"la durée moyenne d'exécution d'une recherche avec recherche_aleaMem est {duree_moyenne(recherche_aleaMem)} s\")\n",
    "print(f\"la durée moyenne d'exécution d'une recherche avec recherche_aleaInterv est {duree_moyenne(recherche_aleaInterv)} s\")\n",
    "print(f\"la durée moyenne d'exécution d'une recherche avec dichotomie est {duree_moyenne(dichotomie)} s\")"
   ]
  },
  {
   "cell_type": "code",
   "execution_count": null,
   "metadata": {},
   "outputs": [],
   "source": []
  }
 ],
 "metadata": {
  "kernelspec": {
   "display_name": "Python 3",
   "language": "python",
   "name": "python3"
  },
  "language_info": {
   "codemirror_mode": {
    "name": "ipython",
    "version": 2
   },
   "file_extension": ".py",
   "mimetype": "text/x-python",
   "name": "python",
   "nbconvert_exporter": "python",
   "pygments_lexer": "ipython2",
   "version": "2.7.17"
  }
 },
 "nbformat": 4,
 "nbformat_minor": 4
}
