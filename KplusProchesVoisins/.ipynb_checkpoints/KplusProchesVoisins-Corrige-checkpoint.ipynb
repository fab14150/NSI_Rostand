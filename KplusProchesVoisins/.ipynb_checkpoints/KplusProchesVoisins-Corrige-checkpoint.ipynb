{
 "cells": [
  {
   "cell_type": "markdown",
   "metadata": {
    "nbgrader": {
     "grade": false,
     "grade_id": "cell-a1d0d82864a5d7c0",
     "locked": true,
     "schema_version": 1,
     "solution": false
    },
    "slideshow": {
     "slide_type": "slide"
    }
   },
   "source": [
    "# Algorithme des k plus proches voisins\n",
    "l’algorithme des k plus proches voisins (K-NN où K-nearest neighbors) est une méthode utilisée pour la classification de données. Son fonctionnement peut être assimilé à l’analogie suivante *dis moi qui sont tes voisins, je te dirais qui tu es…*.\n",
    "\n",
    "Dans cette activité, vous allez travailler sur un jeu de données fictives : 30 points sont disposés sur un plateau de taille $100 \\times 100$. Ces points sont de couleur *rouge*, *verte*, *bleue* ou *noire*. \n",
    "\n",
    "Le problème est le suivant : étant données les coordonnées d'un point choisi au hasard sur notre plateau, peut-on deviner sa couleur ? La réponse à cette question sera apportée par l'algorithme des k plus proches voisins que vous devrez réaliser en suivant les indications ci-dessous."
   ]
  },
  {
   "cell_type": "code",
   "execution_count": 1,
   "metadata": {
    "nbgrader": {
     "grade": false,
     "grade_id": "cell-a0164bc8f559aeea",
     "locked": true,
     "schema_version": 1,
     "solution": false
    },
    "slideshow": {
     "slide_type": "skip"
    }
   },
   "outputs": [],
   "source": [
    "# Import des bibliothèques nécessaires\n",
    "\n",
    "import matplotlib.pyplot as plt\n",
    "import numpy as np\n",
    "from PIL import Image\n",
    "from random import randint\n",
    "from math import sqrt\n",
    "import hashlib\n",
    "import sys\n",
    "%matplotlib inline"
   ]
  },
  {
   "cell_type": "code",
   "execution_count": 2,
   "metadata": {
    "nbgrader": {
     "grade": false,
     "grade_id": "cell-e951a171174256ae",
     "locked": true,
     "schema_version": 1,
     "solution": false
    },
    "slideshow": {
     "slide_type": "skip"
    }
   },
   "outputs": [],
   "source": [
    "# Constantes\n",
    "MAX_RANGE = 100                        # les coordonnées sont entre 0 et 99\n",
    "PRECISION = 10*sys.float_info.epsilon  # precision des tests sur les flottants\n",
    "COULEURS = {'red':(255,0,0), 'green':(0,255,0), 'blue':(0,0,255), 'black':(0,0,0)}\n",
    "FORMES = {\"red\":\"o\", \"blue\":\"^\", \"green\":\"s\", \"black\":\"x\"}"
   ]
  },
  {
   "cell_type": "markdown",
   "metadata": {
    "nbgrader": {
     "grade": false,
     "grade_id": "cell-03abadfddbf3f026",
     "locked": true,
     "schema_version": 1,
     "solution": false
    },
    "slideshow": {
     "slide_type": "slide"
    }
   },
   "source": [
    "## Jeu de données\n",
    "\n",
    "les informations de départ sont données sous forme d'une liste de tuple de trois termes\n",
    "   - le premier est l'abscisse\n",
    "   - le deuxième est l'ordonnée \n",
    "   - le troisième la couleur: red blue, green et black"
   ]
  },
  {
   "cell_type": "markdown",
   "metadata": {
    "nbgrader": {
     "grade": false,
     "grade_id": "cell-a346e682ec67b2a6",
     "locked": true,
     "schema_version": 1,
     "solution": false
    },
    "slideshow": {
     "slide_type": "skip"
    }
   },
   "source": [
    "### Récupération d'un jeu existant\n",
    "Validez les 3 cellules ci-dessous et étudiez la manière dont les données sont représentées dans le dictionnaire ***data***"
   ]
  },
  {
   "cell_type": "code",
   "execution_count": 3,
   "metadata": {
    "nbgrader": {
     "grade": false,
     "grade_id": "cell-ec3d59db76c1331b",
     "locked": true,
     "schema_version": 1,
     "solution": false
    },
    "slideshow": {
     "slide_type": "skip"
    }
   },
   "outputs": [],
   "source": [
    "data=[(52, 2, 'black'), (59, 0, 'black'), (68, 8, 'black'), (77, 11, 'black'), (28, 21, 'black'), (0, 66, 'blue'),\n",
    "      (0, 77, 'blue'), (28, 61, 'blue'), (21, 56, 'blue'), (29, 66, 'blue'), (10, 40, 'blue'), (10, 81, 'blue'), \n",
    "      (30, 49, 'blue'), (83, 87, 'green'), (96, 56, 'green'), (45, 77, 'green'), (73, 69, 'green'), \n",
    "      (53, 77, 'green'), (34, 68, 'green'), (70, 63, 'green'), (85, 34, 'red'), (36, 54, 'red'), (33, 54, 'red'),\n",
    "      (65, 52, 'red'), (45, 45, 'red'), (70, 62, 'red'), (48, 66, 'red'), (63, 28, 'red'), (40, 28, 'red'),\n",
    "      (82, 18, 'red')]"
   ]
  },
  {
   "cell_type": "code",
   "execution_count": 4,
   "metadata": {},
   "outputs": [],
   "source": [
    "def pts_couleur(couleur):\n",
    "    liste=[]\n",
    "    for el in data:\n",
    "        if el[2]==couleur:\n",
    "            liste.append((el[0],el[1]))\n",
    "    return liste\n",
    "\n",
    "ptsNoirs=pts_couleur('black')"
   ]
  },
  {
   "cell_type": "code",
   "execution_count": 5,
   "metadata": {
    "nbgrader": {
     "grade": false,
     "grade_id": "cell-8e725dac1da2802e",
     "locked": true,
     "schema_version": 1,
     "solution": false
    },
    "scrolled": true,
    "slideshow": {
     "slide_type": "skip"
    }
   },
   "outputs": [
    {
     "name": "stdout",
     "output_type": "stream",
     "text": [
      "ce jeu contient  30  données\n",
      "les points noirs sont  [(52, 2), (59, 0), (68, 8), (77, 11), (28, 21)]\n"
     ]
    }
   ],
   "source": [
    "print(\"ce jeu contient \", len(data), \" données\")\n",
    "print(\"les points noirs sont \", ptsNoirs)"
   ]
  },
  {
   "cell_type": "markdown",
   "metadata": {
    "nbgrader": {
     "grade": false,
     "grade_id": "cell-22c05e48d8e0a718",
     "locked": true,
     "schema_version": 1,
     "solution": false
    },
    "slideshow": {
     "slide_type": "slide"
    }
   },
   "source": [
    "### Représentation graphique du jeu de données\n",
    "\n",
    "Pour visualiser notre jeu de données, chaque donnée sera un point dont les coordonnées seront les deux valeurs entre 0 et 100 et dont la couleur et la forme corrspondront au critère associé. Pour simplifier la lecture sur un document noir et blanc, nous adopterons la convention suivante :\n",
    "- le rouge sera représenté par un point rond\n",
    "- le vert sera représenté par un carré\n",
    "- le bleu sera représenté par un triangle\n",
    "- le noir sera représenté par une croix"
   ]
  },
  {
   "cell_type": "code",
   "execution_count": 6,
   "metadata": {
    "nbgrader": {
     "grade": false,
     "grade_id": "cell-15907395d7f61ba0",
     "locked": true,
     "schema_version": 1,
     "solution": false
    },
    "slideshow": {
     "slide_type": "slide"
    }
   },
   "outputs": [
    {
     "data": {
      "image/png": "[encoded data removed]",
      "text/plain": [
       "<Figure size 288x288 with 1 Axes>"
      ]
     },
     "metadata": {
      "needs_background": "light"
     },
     "output_type": "display_data"
    }
   ],
   "source": [
    "def dessine_points(data):\n",
    "    plt.rcParams[\"figure.figsize\"] = (4, 4)\n",
    "    plt.axis('equal')\n",
    "    for el in data:\n",
    "        plt.scatter(el[0], el[1], c=el[2], marker=FORMES[el[2]])\n",
    "    plt.show()\n",
    "dessine_points(data)"
   ]
  },
  {
   "cell_type": "markdown",
   "metadata": {
    "nbgrader": {
     "grade": false,
     "grade_id": "cell-18afc2f63586da78",
     "locked": true,
     "schema_version": 1,
     "solution": false
    },
    "slideshow": {
     "slide_type": "slide"
    }
   },
   "source": [
    "## Implémentation de l'algorithme des k plus proches voisins\n",
    "\n",
    "On cherche dans cette partie à écrire un programme qui, étant données les coordonnées d'un point, devine la couleur associée en utilisant l'algorithme des k plus proches voisins."
   ]
  },
  {
   "cell_type": "markdown",
   "metadata": {
    "nbgrader": {
     "grade": false,
     "grade_id": "cell-889f7d1829b14ea3",
     "locked": true,
     "schema_version": 1,
     "solution": false
    },
    "slideshow": {
     "slide_type": "fragment"
    }
   },
   "source": [
    "### Calcul de la distance entre deux points\n",
    "Ecrire une fonction **distance** prenant en paramètre deux points (un point sera représenté par un tuple (x,y)) et renvoyant la distance entre ces deux points."
   ]
  },
  {
   "cell_type": "code",
   "execution_count": 7,
   "metadata": {
    "nbgrader": {
     "grade": false,
     "grade_id": "cell-832cd6f12ac11590",
     "locked": false,
     "schema_version": 1,
     "solution": true
    },
    "slideshow": {
     "slide_type": "slide"
    }
   },
   "outputs": [],
   "source": [
    "### BEGIN SOLUTION\n",
    "def distance(pointA, pointB):\n",
    "    xA, yA = pointA\n",
    "    xB, yB = pointB\n",
    "    return sqrt((xB-xA)**2 + (yB-yA)**2)\n",
    "### END SOLUTION"
   ]
  },
  {
   "cell_type": "code",
   "execution_count": 8,
   "metadata": {
    "nbgrader": {
     "grade": true,
     "grade_id": "cell-8ad51ee90553e693",
     "locked": true,
     "points": 1,
     "schema_version": 1,
     "solution": false
    },
    "slideshow": {
     "slide_type": "-"
    }
   },
   "outputs": [
    {
     "name": "stdout",
     "output_type": "stream",
     "text": [
      "2.23606797749979\n",
      "7.0710678118654755\n"
     ]
    }
   ],
   "source": [
    "# test de la fonction\n",
    "cible = (5, 5)\n",
    "voisin1 = (3, 4)\n",
    "voisin2 = (0, 0)\n",
    "print(distance(cible, voisin1))\n",
    "print(distance(cible, voisin2))\n",
    "\n",
    "# Verification automatisee\n",
    "assert abs(distance(cible, voisin1) - 2.23606797749979) < PRECISION\n",
    "assert abs(distance(cible, voisin2) - 7.0710678118654755) < PRECISION\n",
    "### BEGIN HIDDEN TESTS\n",
    "assert abs(distance((34,52), (12, 30)) - 31.11269837220809) < PRECISION\n",
    "assert abs(distance((34,52), (34, 52)) - 0.0) < PRECISION\n",
    "### END HIDDEN TESTS"
   ]
  },
  {
   "cell_type": "markdown",
   "metadata": {
    "nbgrader": {
     "grade": false,
     "grade_id": "cell-d97afff7162d0b01",
     "locked": true,
     "schema_version": 1,
     "solution": false
    },
    "slideshow": {
     "slide_type": "slide"
    }
   },
   "source": [
    "### Calcul des distances de tous les points à une origine donnée\n",
    "\n",
    "Construire une fonction ***k_proches_voisins*** qui prend en arguments\n",
    "- le jeu de données\n",
    "- les coordonnées de la cible: le point dont on cherche à déterminer a nature\n",
    "- la valeur de *k* : nombre de plus proches voisins à considérer (il faut 1 par défaut)\n",
    "\n",
    "et renvoyant la liste des k plus proches voisins sous forme d'un tuple (distance, propriete)"
   ]
  },
  {
   "cell_type": "code",
   "execution_count": 28,
   "metadata": {
    "nbgrader": {
     "grade": false,
     "grade_id": "cell-1de10ed9d3c42934",
     "locked": false,
     "schema_version": 1,
     "solution": true
    },
    "slideshow": {
     "slide_type": "skip"
    }
   },
   "outputs": [],
   "source": [
    "def k_plus_proches(data,cible,k=1):\n",
    "    liste_voisin=[]\n",
    "    for el in data:\n",
    "        d=distance(cible,(el[0],el[1]))\n",
    "        liste_voisin.append((d,el[2]))\n",
    "    liste_voisin.sort()\n",
    "    return liste_voisin[:k]"
   ]
  },
  {
   "cell_type": "code",
   "execution_count": 30,
   "metadata": {
    "nbgrader": {
     "grade": true,
     "grade_id": "cell-877252982aaabda8",
     "locked": true,
     "points": 3,
     "schema_version": 1,
     "solution": false
    },
    "slideshow": {
     "slide_type": "slide"
    }
   },
   "outputs": [
    {
     "name": "stdout",
     "output_type": "stream",
     "text": [
      "6\n",
      "(28.0178514522438, 'black')\n",
      "(35.35533905932738, 'blue')\n",
      "(41.88078318274385, 'red')\n",
      "(47.095647357266465, 'black')\n",
      "(50.60632371551998, 'blue')\n",
      "(53.45091205957107, 'blue')\n"
     ]
    }
   ],
   "source": [
    "# test de la fonction\n",
    "reponse = k_plus_proches(data, (5,5), 6)\n",
    "print(len(reponse))\n",
    "for r in reponse:\n",
    "    print(r)\n",
    "# tests automatises\n",
    "assert abs(reponse[0][0]-28.0178514522438) < PRECISION\n",
    "assert reponse[0][1] == 'black'\n",
    "assert abs(reponse[1][0]-35.35533905932738) < PRECISION\n",
    "assert reponse[1][1] == 'blue'\n",
    "assert abs(reponse[2][0]-41.88078318274385) < PRECISION\n",
    "assert reponse[2][1] == 'red'\n",
    "assert abs(reponse[3][0]-47.095647357266465) < PRECISION\n",
    "assert reponse[3][1] == 'black'\n",
    "assert abs(reponse[4][0]-50.60632371551998) < PRECISION\n",
    "assert reponse[4][1] == 'blue'\n",
    "### BEGIN HIDDEN TESTS\n",
    "reponse1 = k_plus_proches(data, (51,25), 2)\n",
    "assert abs(reponse1[0][0]-11.40175425099138) < PRECISION\n",
    "assert reponse1[0][1] == 'red'\n",
    "assert abs(reponse1[1][0]-12.36931687685298) < PRECISION\n",
    "assert reponse1[1][1]== 'red'\n",
    "### END HIDDEN TESTS"
   ]
  },
  {
   "cell_type": "markdown",
   "metadata": {
    "nbgrader": {
     "grade": false,
     "grade_id": "cell-b21544375370a85c",
     "locked": true,
     "schema_version": 1,
     "solution": false
    },
    "slideshow": {
     "slide_type": "slide"
    }
   },
   "source": [
    "### Prédiction de la valeur du caractère en fonction des k plus proches voisins\n",
    "\n",
    "Déduire de la fonction précédante la fonction ***categorie_devine*** qui prend en arguments\n",
    "- le jeu de données\n",
    "- les coordonnées du point origine dont on cherche à déterminer a nature\n",
    "- la valeur de $k$ : nombre de plus proches voisins à considérer\n",
    "\n",
    "qui complète  un dictionnaire dont les clés sont les couleurs et les valeurs une liste de deux éléments: \n",
    "- le nombre de fois où la couleur apparait dans la liste des k plus proches voisins\n",
    "- la distance cummulée des points d'une même couleur à la cible\n",
    "\n",
    "et qui renvoie la couleur de la cible, à savoir la couleur la plus fréquente parmis les $k$ plus proches voisins. \n",
    "\n",
    "En cas d'égalité, on choisira la couleur dont la **somme des distances correspondante est la plus petite**.\n"
   ]
  },
  {
   "cell_type": "code",
   "execution_count": 33,
   "metadata": {
    "nbgrader": {
     "grade": false,
     "grade_id": "cell-f4566c3bd94a823c",
     "locked": false,
     "schema_version": 1,
     "solution": true
    },
    "slideshow": {
     "slide_type": "skip"
    }
   },
   "outputs": [],
   "source": [
    "### BEGIN SOLUTION\n",
    "def categorie_devine(data, origine, k=1):\n",
    "    # elaboration du dicotionnaire qui contient les tupples (distance, propriété)\n",
    "    dico = {}\n",
    "    kpv = k_plus_proches(data, origine, k)\n",
    "    for el in kpv:\n",
    "        couleur=el[1]\n",
    "        if couleur not in dico:\n",
    "            dico[couleur]=[1,el[0]]\n",
    "        else:\n",
    "            dico[couleur][0]+=1\n",
    "            dico[couleur][1]+=el[0]\n",
    "    # recherche de la propriété la plus représentée\n",
    "    nbmax=0\n",
    "    for couleur in dico:\n",
    "        if dico[couleur][0]>nbmax:\n",
    "            nbmax=dico[couleur][0]\n",
    "            coulmax=couleur\n",
    "        elif dico[couleur][0]==nbmax:\n",
    "            if dico[couleur][1]<dico[coulmax][1]:\n",
    "                coulmax=couleur\n",
    "        \n",
    "    return coulmax\n",
    "### END SOLUTION\n"
   ]
  },
  {
   "cell_type": "code",
   "execution_count": 34,
   "metadata": {
    "nbgrader": {
     "grade": true,
     "grade_id": "cell-e55f693ff4c3955f",
     "locked": true,
     "points": 2,
     "schema_version": 1,
     "solution": false
    },
    "slideshow": {
     "slide_type": "slide"
    }
   },
   "outputs": [
    {
     "name": "stdout",
     "output_type": "stream",
     "text": [
      "black\n"
     ]
    }
   ],
   "source": [
    "# test de la fonction\n",
    "reponse = categorie_devine(data, (5,5),5)\n",
    "print(reponse)\n",
    "# test automatise\n",
    "assert categorie_devine(data, ( 51 , 42 ),6) == 'red'\n",
    "assert categorie_devine(data, ( 40 , 40 ),3) == 'red'\n",
    "assert categorie_devine(data, ( 40 , 60 ),3) == 'red'\n",
    "assert categorie_devine(data, ( 40 , 80 ),3) == 'green'\n",
    "assert categorie_devine(data, ( 60 , 20 ),3) == 'black'\n",
    "assert categorie_devine(data, ( 60 , 40 ),30) == 'red'\n",
    "### BEGIN HIDDEN TESTS\n",
    "assert categorie_devine(data, ( 20 , 20 ),3) == 'black'\n",
    "assert categorie_devine(data, ( 20 , 40 ),3) == 'blue'\n",
    "assert categorie_devine(data, ( 20 , 60 ),3) == 'blue'\n",
    "assert categorie_devine(data, ( 20 , 80 ),3) == 'blue'\n",
    "assert categorie_devine(data, ( 40 , 20 ),3) == 'black'\n",
    "assert categorie_devine(data, ( 60 , 60 ),3) == 'red'\n",
    "assert categorie_devine(data, ( 60 , 80 ),3) == 'green'\n",
    "assert categorie_devine(data, ( 80 , 20 ),3) == 'red'\n",
    "assert categorie_devine(data, ( 80 , 40 ),3) == 'red'\n",
    "assert categorie_devine(data, ( 80 , 60 ),3) == 'green'\n",
    "assert categorie_devine(data, ( 80 , 80 ),3) == 'green'\n",
    "### END HIDDEN TESTS"
   ]
  },
  {
   "cell_type": "markdown",
   "metadata": {
    "nbgrader": {
     "grade": false,
     "grade_id": "cell-4d59a8bae95530fd",
     "locked": true,
     "schema_version": 1,
     "solution": false
    },
    "slideshow": {
     "slide_type": "slide"
    }
   },
   "source": [
    "## Régionnement du plan\n",
    "\n",
    "En partant de la représentation graphique de notre jeu de données, nous allons colorier chaque point du plan avec la couleur prédite par l'algorithme des k plus proches voisins. Nous visualiserons l'influence du paramètre $k$ dans la prédiction obtenue."
   ]
  },
  {
   "cell_type": "markdown",
   "metadata": {
    "nbgrader": {
     "grade": false,
     "grade_id": "cell-7fb2ead1a13f8daf",
     "locked": true,
     "schema_version": 1,
     "solution": false
    },
    "slideshow": {
     "slide_type": "-"
    }
   },
   "source": [
    "L'idée dans cette partie est la suivante : on parcourt tous les points du plan et on colorie le pixel avec la couleur prédite par l'algorithme en fonction de ses k plus proches voisins.\n",
    "\n",
    "Pour cette tâche, nous aurons besoin de savoir comment créer une image pixels par pixels. Etudiez l'exemple ci-dessous qui vous montrera l'utilisation de la librairie python *PIL* dédiée à cela."
   ]
  },
  {
   "cell_type": "code",
   "execution_count": 35,
   "metadata": {
    "slideshow": {
     "slide_type": "slide"
    }
   },
   "outputs": [
    {
     "data": {
      "image/png": "[encoded data removed]",
      "text/plain": [
       "<PIL.Image.Image image mode=RGB size=240x240 at 0x7F7FB753A828>"
      ]
     },
     "execution_count": 35,
     "metadata": {},
     "output_type": "execute_result"
    }
   ],
   "source": [
    "# On cree une image vide\n",
    "monimage=Image.new(\"RGB\",(MAX_RANGE, MAX_RANGE))\n",
    "\n",
    "# On definit une couleur selon les valeurs Rouge, Vert et Bleu entre 0 et 255\n",
    "R,V,B = (0,64,21)\n",
    "\n",
    "# On calcule une image de 100 pixels par 100 pixels\n",
    "for x in range(MAX_RANGE):\n",
    "    for y in range(MAX_RANGE):\n",
    "        monimage.putpixel((x,MAX_RANGE-y-1),(R,V,B))\n",
    "\n",
    "# On zoome sur l'image pour lui donner la taille demandée\n",
    "monimage.resize((240,240))"
   ]
  },
  {
   "cell_type": "markdown",
   "metadata": {
    "nbgrader": {
     "grade": false,
     "grade_id": "cell-6a92908e3846db28",
     "locked": true,
     "schema_version": 1,
     "solution": false
    },
    "slideshow": {
     "slide_type": "skip"
    }
   },
   "source": [
    "L'image ci-dessus vous semble trop monotonne ? amusez-vous à modifier la couleur des pixels en fonction des coordonnées. Par exemple : mettez $2x$ pour le canal vert et $2y$ pour le canal bleu.\n",
    "\n",
    "**Remarque** : On rappelle que l'origine du repère dans *PIL* est le point en haut à gauche et l'axe des ordonnées est orienté vers le bas.\n",
    "Dans *matplotlib*, l'origine du repère est le point en bas à gauche et l'axe des ordonnées est orienté vers le haut. \n",
    "On tiendra compte de ces spécificités de manière à ce que le régionnement obtenu corresponde à la représentation des points obtenue ci-dessus."
   ]
  },
  {
   "cell_type": "markdown",
   "metadata": {
    "nbgrader": {
     "grade": false,
     "grade_id": "cell-18373270eb6c2f7a",
     "locked": true,
     "schema_version": 1,
     "solution": false
    },
    "slideshow": {
     "slide_type": "slide"
    }
   },
   "source": [
    "\n",
    "### Régionnement du plan\n",
    "\n",
    "Ecrire une fonction ***remplissage*** qui prend en paramètre le jeu de données et la valeur de $k$ et qui renvoie une image du plan colorié avec une résolution de 240x240 pixels.\n",
    "\n",
    "**Indication** : On pourra utiliser le dictionnaire **COULEURS** donné en constante au début de ce document pur convertir les propriétés de couleur en valeurs au format (R,V,B).\n",
    "\n",
    "**Attention** : Penser à renvoyer l'image fabriquée (avec *return*) avec les dimensions demandées à la fin de la fonction ***remplissage*** !"
   ]
  },
  {
   "cell_type": "code",
   "execution_count": 36,
   "metadata": {
    "nbgrader": {
     "grade": false,
     "grade_id": "cell-fdbe2eef705fadde",
     "locked": false,
     "schema_version": 1,
     "solution": true
    },
    "slideshow": {
     "slide_type": "slide"
    }
   },
   "outputs": [],
   "source": [
    "### BEGIN SOLUTION\n",
    "def remplissage(data, k):\n",
    "    monimage=Image.new(\"RGB\",(MAX_RANGE, MAX_RANGE))\n",
    "    for x in range(MAX_RANGE):\n",
    "        for y in range(MAX_RANGE):\n",
    "            couleur=categorie_devine(data, (x,y), k)\n",
    "            monimage.putpixel((x,MAX_RANGE-y-1),COULEURS[couleur])\n",
    "    return monimage.resize((240,240), Image.ANTIALIAS)\n",
    "### END SOLUTION"
   ]
  },
  {
   "cell_type": "code",
   "execution_count": 37,
   "metadata": {
    "nbgrader": {
     "grade": true,
     "grade_id": "cell-bcfb90631ada15e6",
     "locked": true,
     "points": 2,
     "schema_version": 1,
     "solution": false
    }
   },
   "outputs": [
    {
     "data": {
      "image/png": "[encoded data removed]",
      "text/plain": [
       "<PIL.Image.Image image mode=RGB size=240x240 at 0x7F7FB7CBA9B0>"
      ]
     },
     "execution_count": 37,
     "metadata": {},
     "output_type": "execute_result"
    }
   ],
   "source": [
    "# test automatise\n",
    "monImage = remplissage(data, 3)\n",
    "assert monImage.size == (240,240)\n",
    "assert type(monImage) == Image.Image\n",
    "\n",
    "monImage"
   ]
  },
  {
   "cell_type": "markdown",
   "metadata": {
    "nbgrader": {
     "grade": false,
     "grade_id": "cell-06585b36793cacf5",
     "locked": true,
     "schema_version": 1,
     "solution": false
    },
    "slideshow": {
     "slide_type": "skip"
    }
   },
   "source": [
    "Exécutez cette fonction avec plusieurs valeurs de $k$ variant entre 4 et 10"
   ]
  },
  {
   "cell_type": "code",
   "execution_count": 38,
   "metadata": {
    "nbgrader": {
     "grade": false,
     "grade_id": "cell-ecd6a5ece71f5e4d",
     "locked": true,
     "schema_version": 1,
     "solution": false
    },
    "slideshow": {
     "slide_type": "slide"
    }
   },
   "outputs": [
    {
     "data": {
      "image/png": "[encoded data removed]",
      "text/plain": [
       "<PIL.Image.Image image mode=RGB size=240x240 at 0x7F7FB7CBAB70>"
      ]
     },
     "execution_count": 38,
     "metadata": {},
     "output_type": "execute_result"
    }
   ],
   "source": [
    "remplissage(data, 4)"
   ]
  },
  {
   "cell_type": "code",
   "execution_count": 39,
   "metadata": {
    "nbgrader": {
     "grade": false,
     "grade_id": "cell-7b7c9265197fadfb",
     "locked": true,
     "schema_version": 1,
     "solution": false
    },
    "slideshow": {
     "slide_type": "-"
    }
   },
   "outputs": [
    {
     "data": {
      "image/png": "[encoded data removed]",
      "text/plain": [
       "<PIL.Image.Image image mode=RGB size=240x240 at 0x7F7FB7511160>"
      ]
     },
     "execution_count": 39,
     "metadata": {},
     "output_type": "execute_result"
    }
   ],
   "source": [
    "remplissage(data, 5)"
   ]
  },
  {
   "cell_type": "code",
   "execution_count": 40,
   "metadata": {
    "nbgrader": {
     "grade": false,
     "grade_id": "cell-a98866e2ec6392fa",
     "locked": true,
     "schema_version": 1,
     "solution": false
    },
    "slideshow": {
     "slide_type": "slide"
    }
   },
   "outputs": [
    {
     "data": {
      "image/png": "[encoded data removed]",
      "text/plain": [
       "<PIL.Image.Image image mode=RGB size=240x240 at 0x7F7FB753A8D0>"
      ]
     },
     "execution_count": 40,
     "metadata": {},
     "output_type": "execute_result"
    }
   ],
   "source": [
    "remplissage(data, 6)"
   ]
  },
  {
   "cell_type": "code",
   "execution_count": 41,
   "metadata": {
    "nbgrader": {
     "grade": false,
     "grade_id": "cell-53df229167111474",
     "locked": true,
     "schema_version": 1,
     "solution": false
    },
    "slideshow": {
     "slide_type": "-"
    }
   },
   "outputs": [
    {
     "data": {
      "image/png": "[encoded data removed]",
      "text/plain": [
       "<PIL.Image.Image image mode=RGB size=240x240 at 0x7F7FB7CBACC0>"
      ]
     },
     "execution_count": 41,
     "metadata": {},
     "output_type": "execute_result"
    }
   ],
   "source": [
    "remplissage(data, 7)"
   ]
  },
  {
   "cell_type": "code",
   "execution_count": 42,
   "metadata": {
    "nbgrader": {
     "grade": false,
     "grade_id": "cell-f82f2f4dcb8ef4ce",
     "locked": true,
     "schema_version": 1,
     "solution": false
    },
    "slideshow": {
     "slide_type": "slide"
    }
   },
   "outputs": [
    {
     "data": {
      "image/png": "[encoded data removed]",
      "text/plain": [
       "<PIL.Image.Image image mode=RGB size=240x240 at 0x7F7FB7CBA898>"
      ]
     },
     "execution_count": 42,
     "metadata": {},
     "output_type": "execute_result"
    }
   ],
   "source": [
    "remplissage(data, 8)"
   ]
  },
  {
   "cell_type": "code",
   "execution_count": 43,
   "metadata": {
    "nbgrader": {
     "grade": false,
     "grade_id": "cell-66ecc9b5d012ac70",
     "locked": true,
     "schema_version": 1,
     "solution": false
    },
    "slideshow": {
     "slide_type": "-"
    }
   },
   "outputs": [
    {
     "data": {
      "image/png": "[encoded data removed]",
      "text/plain": [
       "<PIL.Image.Image image mode=RGB size=240x240 at 0x7F7FB753A3C8>"
      ]
     },
     "execution_count": 43,
     "metadata": {},
     "output_type": "execute_result"
    }
   ],
   "source": [
    "remplissage(data, 9)"
   ]
  },
  {
   "cell_type": "code",
   "execution_count": 44,
   "metadata": {
    "nbgrader": {
     "grade": false,
     "grade_id": "cell-db400410ce4141ec",
     "locked": true,
     "schema_version": 1,
     "solution": false
    },
    "slideshow": {
     "slide_type": "skip"
    }
   },
   "outputs": [
    {
     "data": {
      "image/png": "[encoded data removed]",
      "text/plain": [
       "<PIL.Image.Image image mode=RGB size=240x240 at 0x7F7FB753AD68>"
      ]
     },
     "execution_count": 44,
     "metadata": {},
     "output_type": "execute_result"
    }
   ],
   "source": [
    "remplissage(data, 10)"
   ]
  },
  {
   "cell_type": "markdown",
   "metadata": {
    "nbgrader": {
     "grade": false,
     "grade_id": "cell-0c2bf7c0b82cf4f0",
     "locked": true,
     "schema_version": 1,
     "solution": false
    },
    "slideshow": {
     "slide_type": "skip"
    }
   },
   "source": [
    "# Pour aller plus loin\n",
    "\n",
    "Il est intéressant de constater l'influence du paramètre $k$ sur les figures obtenues. Lorsque k évolue, les frontières bougent, des ilôts se forment et de défont."
   ]
  },
  {
   "cell_type": "markdown",
   "metadata": {
    "nbgrader": {
     "grade": false,
     "grade_id": "cell-2cee0957150f83f6",
     "locked": true,
     "schema_version": 1,
     "solution": false
    },
    "slideshow": {
     "slide_type": "slide"
    }
   },
   "source": [
    "## Choix du paramètre k\n",
    "\n",
    "Le choix du bon paramètre $k$ est un problème délicat : \n",
    "- Une trop faible valeur fera apparaître beaucoup de distortions liées au hasard et donc des choix erronés au final.\n",
    "- Une trop grande valeur de k prendra en compte des valeur très éloignées du sujet d'origine et donnera encore des résultats peu crédibles.\n",
    "\n",
    "**Question** : Que renverra l'algorithme des $k$ plus proches voisins lorsque on choisit le paramètre $k$ égal au nombre de points dans notre jeu de données ?\n",
    "\n",
    "Afin d'avoir des résultats pertinents par note algorithme, le choix du paramètre $k$ devra se faire entre ces deux extrèmes. Il n'y a pas de règle absolue, néanmoins on peut retenir deux idées :\n",
    "1. Si le nombre de critères est égal à 2, on choisira ***une valeur de k impaire*** afin d'éviter les situations d'égalités.\n",
    "2. En première approximation, on pourra choisir $k=\\sqrt n$ où $n$ est le nombre de points dans notre jeu de données.\n",
    "\n",
    "Dans l'exemple ci-dessus, le paramètre $k=6$ semble donner des résultats assez proches de ce que notre intuition suggère, avec des frontières assez lisses. Lorsque $k$ augmente, le rouge prend une prédominance exagérée."
   ]
  },
  {
   "cell_type": "markdown",
   "metadata": {
    "nbgrader": {
     "grade": false,
     "grade_id": "cell-140df294e00113a8",
     "locked": true,
     "schema_version": 1,
     "solution": false
    },
    "slideshow": {
     "slide_type": "slide"
    }
   },
   "source": [
    "## Influence du paramètre k\n",
    "On a constaté que, lorsque k varie,  les frontières bougent mais beaucoup de points restent stables. On peut les mettre en évidence avec un système de dégradé de couleurs. L'image que l'on cherche à obtenir est en quelque sorte une superposition des images obtenues précédemment."
   ]
  },
  {
   "cell_type": "code",
   "execution_count": 45,
   "metadata": {
    "nbgrader": {
     "grade": false,
     "grade_id": "cell-1b666b8bc0f49401",
     "locked": true,
     "schema_version": 1,
     "solution": false
    },
    "slideshow": {
     "slide_type": "skip"
    }
   },
   "outputs": [],
   "source": [
    "def invariants(data, start, end):\n",
    "    liste = [[[0,0,0,0] for _ in range(MAX_RANGE)] for _ in range(MAX_RANGE) ]\n",
    "    couleurs_position = dict({'red':0, 'green':1, 'blue':2, 'black':3})\n",
    "    for k in range(start, end):\n",
    "         for x in range(MAX_RANGE):\n",
    "            for y in range(MAX_RANGE):\n",
    "                c=categorie_devine(data, (x,y), k)\n",
    "                liste[y][x][couleurs_position[c]] += 1\n",
    "             \n",
    "    return liste\n",
    "\n",
    "def calcule_couleur(liste_col, nb_max):\n",
    "    return tuple(c *255 // nb_max // 2**liste_col[3] for c in liste_col[:3])\n",
    "\n",
    "def dessin_invariants(liste):\n",
    "    nb_max=sum(liste[0][0])\n",
    "    monimage=Image.new(\"RGB\",(MAX_RANGE, MAX_RANGE))\n",
    "    for x in range(MAX_RANGE):\n",
    "        for y in range(MAX_RANGE):\n",
    "            couleur = calcule_couleur(liste[y][x], nb_max)\n",
    "            monimage.putpixel((x,MAX_RANGE-y-1),couleur)\n",
    "    return monimage.resize((240,240), Image.ANTIALIAS)"
   ]
  },
  {
   "cell_type": "code",
   "execution_count": 46,
   "metadata": {
    "slideshow": {
     "slide_type": "skip"
    }
   },
   "outputs": [],
   "source": [
    "liste = invariants(data, 3, 8)"
   ]
  },
  {
   "cell_type": "code",
   "execution_count": 47,
   "metadata": {
    "nbgrader": {
     "grade": false,
     "grade_id": "cell-be6f064df5824259",
     "locked": true,
     "schema_version": 1,
     "solution": false
    },
    "slideshow": {
     "slide_type": "-"
    }
   },
   "outputs": [
    {
     "data": {
      "image/png": "[encoded data removed]",
      "text/plain": [
       "<PIL.Image.Image image mode=RGB size=240x240 at 0x7F7FB7532C50>"
      ]
     },
     "execution_count": 47,
     "metadata": {},
     "output_type": "execute_result"
    }
   ],
   "source": [
    "dessin_invariants(liste)"
   ]
  },
  {
   "cell_type": "markdown",
   "metadata": {
    "nbgrader": {
     "grade": false,
     "grade_id": "cell-021fe861f642b8b0",
     "locked": true,
     "schema_version": 1,
     "solution": false
    },
    "slideshow": {
     "slide_type": "skip"
    }
   },
   "source": [
    "## création aléatoire du jeu de données\n",
    "Pour fabriquer un nouveau jeu de données, on pourra utiliser la cellule suivante. On utilise une loi de probabilité normale *en forme de cloche* afin d'obtenir des données assez regroupées en zones :\n",
    "- les paramètres mu1 et mu2 représentent le sommet de la cloche concentrant le maximum de probabilité (espérance)\n",
    "- les paramètres sigma1 et sigma2 représentent la dispertion des données (écart-type)"
   ]
  },
  {
   "cell_type": "code",
   "execution_count": 56,
   "metadata": {
    "slideshow": {
     "slide_type": "skip"
    }
   },
   "outputs": [
    {
     "data": {
      "image/png": "[encoded data removed]",
      "text/plain": [
       "<Figure size 288x288 with 1 Axes>"
      ]
     },
     "metadata": {
      "needs_background": "light"
     },
     "output_type": "display_data"
    }
   ],
   "source": [
    "data1=dict() # nouveau jeu de données\n",
    "\n",
    "def aleat(mu, sigma):\n",
    "    return min(MAX_RANGE,max(0,int(np.random.normal(mu, sigma))))\n",
    "\n",
    "def creeData(key, nb, mu1, sigma1, mu2, sigma2):\n",
    "    data1[key]=[(aleat(mu1, sigma1), aleat(mu2, sigma2)) for _ in range(nb) ]\n",
    "\n",
    "creeData(\"red\", 10, 50, 20, 50, 20)  # points rouges concentrées autour de (50,50)\n",
    "creeData(\"blue\", 8, 10, 20, 70, 10)  # points bleus concentrées autour de (20,20)\n",
    "creeData(\"green\", 5, 80, 20, 90, 10) # points verts concentrées autour de (70,70)\n",
    "creeData(\"black\", 7, 70, 20, 20, 20) # points noirs concentrées autour de (70,20)\n",
    "\n",
    "data2=[]\n",
    "for couleur in data1:\n",
    "    for el in data1[couleur]:\n",
    "        data2.append((el[0],el[1],couleur))\n",
    "\n",
    "dessine_points(data2)\n"
   ]
  },
  {
   "cell_type": "code",
   "execution_count": 57,
   "metadata": {
    "slideshow": {
     "slide_type": "skip"
    }
   },
   "outputs": [
    {
     "data": {
      "image/png": "[encoded data removed]",
      "text/plain": [
       "<PIL.Image.Image image mode=RGB size=240x240 at 0x7F7FB73469B0>"
      ]
     },
     "execution_count": 57,
     "metadata": {},
     "output_type": "execute_result"
    }
   ],
   "source": [
    "remplissage(data2, 6)"
   ]
  },
  {
   "cell_type": "code",
   "execution_count": null,
   "metadata": {},
   "outputs": [],
   "source": []
  }
 ],
 "metadata": {
  "celltoolbar": "Aucun(e)",
  "kernelspec": {
   "display_name": "Python 3",
   "language": "python",
   "name": "python3"
  },
  "language_info": {
   "codemirror_mode": {
    "name": "ipython",
    "version": 3
   },
   "file_extension": ".py",
   "mimetype": "text/x-python",
   "name": "python",
   "nbconvert_exporter": "python",
   "pygments_lexer": "ipython3",
   "version": "3.7.0"
  }
 },
 "nbformat": 4,
 "nbformat_minor": 2
}
