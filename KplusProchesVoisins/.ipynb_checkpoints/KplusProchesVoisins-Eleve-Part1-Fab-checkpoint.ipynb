{
 "cells": [
  {
   "cell_type": "markdown",
   "metadata": {
    "nbgrader": {
     "grade": false,
     "grade_id": "cell-a1d0d82864a5d7c0",
     "locked": true,
     "schema_version": 1,
     "solution": false
    },
    "slideshow": {
     "slide_type": "slide"
    }
   },
   "source": [
    "# Algorithme des k plus proches voisins\n",
    "l’algorithme des k plus proches voisins (K-NN où K-nearest neighbors) est une méthode utilisée pour la classification de données. Son fonctionnement peut être assimilé à l’analogie suivante *dis moi qui sont tes voisins, je te dirais qui tu es…*.\n",
    "\n",
    "Dans cette activité, vous allez travailler sur un jeu de données fictives : 30 points sont disposés sur un plateau de taille $100 \\times 100$. Ces points sont de couleur *rouge*, *verte*, *bleue* ou *noire*. \n",
    "\n",
    "Le problème est le suivant : étant données les coordonnées d'un point choisi au hasard sur notre plateau, peut-on deviner sa couleur ? La réponse à cette question sera apportée par l'algorithme des k plus proches voisins que vous devrez réaliser en suivant les indications ci-dessous."
   ]
  },
  {
   "cell_type": "code",
   "execution_count": 1,
   "metadata": {
    "nbgrader": {
     "grade": false,
     "grade_id": "cell-a0164bc8f559aeea",
     "locked": true,
     "schema_version": 1,
     "solution": false
    },
    "slideshow": {
     "slide_type": "skip"
    }
   },
   "outputs": [],
   "source": [
    "# Import des bibliothèques nécessaires\n",
    "\n",
    "import matplotlib.pyplot as plt\n",
    "import numpy as np\n",
    "from PIL import Image\n",
    "from random import randint\n",
    "from math import sqrt\n",
    "import hashlib\n",
    "import sys\n",
    "%matplotlib inline"
   ]
  },
  {
   "cell_type": "code",
   "execution_count": 2,
   "metadata": {
    "nbgrader": {
     "grade": false,
     "grade_id": "cell-e951a171174256ae",
     "locked": true,
     "schema_version": 1,
     "solution": false
    },
    "slideshow": {
     "slide_type": "skip"
    }
   },
   "outputs": [],
   "source": [
    "# Constantes\n",
    "MAX_RANGE = 100                        # les coordonnées sont entre 0 et 99\n",
    "PRECISION = 10*sys.float_info.epsilon  # precision des tests sur les flottants\n",
    "COULEURS = {'red':(255,0,0), 'green':(0,255,0), 'blue':(0,0,255), 'black':(0,0,0)}\n",
    "FORMES = {\"red\":\"o\", \"blue\":\"^\", \"green\":\"s\", \"black\":\"x\"}"
   ]
  },
  {
   "cell_type": "markdown",
   "metadata": {
    "nbgrader": {
     "grade": false,
     "grade_id": "cell-03abadfddbf3f026",
     "locked": true,
     "schema_version": 1,
     "solution": false
    },
    "slideshow": {
     "slide_type": "slide"
    }
   },
   "source": [
    "## 1. Jeu de données\n",
    "\n",
    "les informations de départ sont données sous forme d'une liste de tuple de trois termes\n",
    "   - le premier est l'abscisse\n",
    "   - le deuxième est l'ordonnée \n",
    "   - le troisième la couleur: red blue, green et black"
   ]
  },
  {
   "cell_type": "markdown",
   "metadata": {
    "nbgrader": {
     "grade": false,
     "grade_id": "cell-a346e682ec67b2a6",
     "locked": true,
     "schema_version": 1,
     "solution": false
    },
    "slideshow": {
     "slide_type": "skip"
    }
   },
   "source": [
    "### Récupération d'un jeu existant\n",
    "Validez les 3 cellules ci-dessous et étudiez la manière dont les données sont représentées dans le dictionnaire ***data***"
   ]
  },
  {
   "cell_type": "code",
   "execution_count": 3,
   "metadata": {
    "nbgrader": {
     "grade": false,
     "grade_id": "cell-ec3d59db76c1331b",
     "locked": true,
     "schema_version": 1,
     "solution": false
    },
    "slideshow": {
     "slide_type": "skip"
    }
   },
   "outputs": [],
   "source": [
    "data=[(52, 2, 'black'), (59, 0, 'black'), (68, 8, 'black'), (77, 11, 'black'), (28, 21, 'black'), (0, 66, 'blue'),\n",
    "      (0, 77, 'blue'), (28, 61, 'blue'), (21, 56, 'blue'), (29, 66, 'blue'), (10, 40, 'blue'), (10, 81, 'blue'), \n",
    "      (30, 49, 'blue'), (83, 87, 'green'), (96, 56, 'green'), (45, 77, 'green'), (73, 69, 'green'), \n",
    "      (53, 77, 'green'), (34, 68, 'green'), (70, 63, 'green'), (85, 34, 'red'), (36, 54, 'red'), (33, 54, 'red'),\n",
    "      (65, 52, 'red'), (45, 45, 'red'), (70, 62, 'red'), (48, 66, 'red'), (63, 28, 'red'), (40, 28, 'red'),\n",
    "      (82, 18, 'red')]"
   ]
  },
  {
   "cell_type": "code",
   "execution_count": 4,
   "metadata": {},
   "outputs": [],
   "source": [
    "def pts_couleur(couleur):\n",
    "    liste=[]\n",
    "    for el in data:\n",
    "        if el[2]==couleur:\n",
    "            liste.append((el[0],el[1]))\n",
    "    return liste\n",
    "\n",
    "ptsNoirs=pts_couleur('black')"
   ]
  },
  {
   "cell_type": "code",
   "execution_count": 5,
   "metadata": {
    "nbgrader": {
     "grade": false,
     "grade_id": "cell-8e725dac1da2802e",
     "locked": true,
     "schema_version": 1,
     "solution": false
    },
    "scrolled": true,
    "slideshow": {
     "slide_type": "skip"
    }
   },
   "outputs": [
    {
     "name": "stdout",
     "output_type": "stream",
     "text": [
      "('ce jeu contient ', 30, ' donn\\xc3\\xa9es')\n",
      "('les points noirs sont ', [(52, 2), (59, 0), (68, 8), (77, 11), (28, 21)])\n"
     ]
    }
   ],
   "source": [
    "print(\"ce jeu contient \", len(data), \" données\")\n",
    "print(\"les points noirs sont \", ptsNoirs)"
   ]
  },
  {
   "cell_type": "markdown",
   "metadata": {
    "nbgrader": {
     "grade": false,
     "grade_id": "cell-22c05e48d8e0a718",
     "locked": true,
     "schema_version": 1,
     "solution": false
    },
    "slideshow": {
     "slide_type": "slide"
    }
   },
   "source": [
    "### Représentation graphique du jeu de données\n",
    "\n",
    "Pour visualiser notre jeu de données, chaque donnée sera un point dont les coordonnées seront les deux valeurs entre 0 et 100 et dont la couleur et la forme corrspondront au critère associé. Pour simplifier la lecture sur un document noir et blanc, nous adopterons la convention suivante :\n",
    "- le rouge sera représenté par un point rond\n",
    "- le vert sera représenté par un carré\n",
    "- le bleu sera représenté par un triangle\n",
    "- le noir sera représenté par une croix"
   ]
  },
  {
   "cell_type": "code",
   "execution_count": 6,
   "metadata": {
    "nbgrader": {
     "grade": false,
     "grade_id": "cell-15907395d7f61ba0",
     "locked": true,
     "schema_version": 1,
     "solution": false
    },
    "slideshow": {
     "slide_type": "slide"
    }
   },
   "outputs": [
    {
     "data": {
      "image/png": "[encoded data removed]",
      "text/plain": [
       "<Figure size 288x288 with 1 Axes>"
      ]
     },
     "metadata": {
      "needs_background": "light"
     },
     "output_type": "display_data"
    }
   ],
   "source": [
    "def dessine_points(data):\n",
    "    plt.rcParams[\"figure.figsize\"] = (4, 4)\n",
    "    plt.axis('equal')\n",
    "    for el in data:\n",
    "        plt.scatter(el[0], el[1], c=el[2], marker=FORMES[el[2]])\n",
    "    plt.show()\n",
    "dessine_points(data)"
   ]
  },
  {
   "cell_type": "markdown",
   "metadata": {
    "nbgrader": {
     "grade": false,
     "grade_id": "cell-18afc2f63586da78",
     "locked": true,
     "schema_version": 1,
     "solution": false
    },
    "slideshow": {
     "slide_type": "slide"
    }
   },
   "source": [
    "## 2.Implémentation de l'algorithme des k plus proches voisins\n",
    "\n",
    "On cherche dans cette partie à écrire un programme qui, étant données les coordonnées d'un point, devine la couleur associée en utilisant l'algorithme des k plus proches voisins."
   ]
  },
  {
   "cell_type": "markdown",
   "metadata": {
    "nbgrader": {
     "grade": false,
     "grade_id": "cell-889f7d1829b14ea3",
     "locked": true,
     "schema_version": 1,
     "solution": false
    },
    "slideshow": {
     "slide_type": "fragment"
    }
   },
   "source": [
    "### a) Calcul de la distance entre deux points\n",
    "Ecrire une fonction **distance** prenant en paramètre deux points (un point sera représenté par un tuple (x,y)) et renvoyant la distance entre ces deux points."
   ]
  },
  {
   "cell_type": "code",
   "execution_count": 9,
   "metadata": {
    "nbgrader": {
     "grade": false,
     "grade_id": "cell-832cd6f12ac11590",
     "locked": false,
     "schema_version": 1,
     "solution": true
    },
    "slideshow": {
     "slide_type": "slide"
    }
   },
   "outputs": [],
   "source": [
    "### BEGIN SOLUTION\n",
    "def distance(pointA, pointB):\n",
    "   #complétez le code\n",
    "    xA,yA = pointA[0], pointA[1]\n",
    "    xB,yB = pointB[0], pointB[1]\n",
    "    d = sqrt((xA-xB)**2 + (yA-yB)**2)\n",
    "    return d\n",
    "\n",
    "### END SOLUTION"
   ]
  },
  {
   "cell_type": "code",
   "execution_count": 10,
   "metadata": {
    "nbgrader": {
     "grade": true,
     "grade_id": "cell-8ad51ee90553e693",
     "locked": true,
     "points": 1,
     "schema_version": 1,
     "solution": false
    },
    "slideshow": {
     "slide_type": "-"
    }
   },
   "outputs": [
    {
     "name": "stdout",
     "output_type": "stream",
     "text": [
      "2.2360679775\n",
      "7.07106781187\n"
     ]
    }
   ],
   "source": [
    "# test de la fonction\n",
    "cible = (5, 5)\n",
    "voisin1 = (3, 4)\n",
    "voisin2 = (0, 0)\n",
    "print(distance(cible, voisin1))\n",
    "print(distance(cible, voisin2))\n",
    "\n",
    "# Verification automatisee\n",
    "assert abs(distance(cible, voisin1) - 2.23606797749979) < PRECISION\n",
    "assert abs(distance(cible, voisin2) - 7.0710678118654755) < PRECISION\n",
    "### BEGIN HIDDEN TESTS\n",
    "assert abs(distance((34,52), (12, 30)) - 31.11269837220809) < PRECISION\n",
    "assert abs(distance((34,52), (34, 52)) - 0.0) < PRECISION\n",
    "### END HIDDEN TESTS"
   ]
  },
  {
   "cell_type": "markdown",
   "metadata": {
    "nbgrader": {
     "grade": false,
     "grade_id": "cell-d97afff7162d0b01",
     "locked": true,
     "schema_version": 1,
     "solution": false
    },
    "slideshow": {
     "slide_type": "slide"
    }
   },
   "source": [
    "### b) Calcul des distances de tous les points à une origine donnée\n",
    "\n",
    "Construire une fonction ***k_proches_voisins*** qui prend en arguments\n",
    "- le jeu de données\n",
    "- les coordonnées de la cible: le point dont on cherche à déterminer a nature\n",
    "- la valeur de *k* : nombre de plus proches voisins à considérer (il faut 1 par défaut)\n",
    "\n",
    "et renvoyant la liste des k plus proches voisins sous forme d'un tuple (distance, propriete)"
   ]
  },
  {
   "cell_type": "code",
   "execution_count": 15,
   "metadata": {
    "nbgrader": {
     "grade": false,
     "grade_id": "cell-1de10ed9d3c42934",
     "locked": false,
     "schema_version": 1,
     "solution": true
    },
    "slideshow": {
     "slide_type": "skip"
    }
   },
   "outputs": [],
   "source": [
    "def k_plus_proches(data,cible,k=1):\n",
    "    liste_voisin=[]\n",
    "    #complétez le code\n",
    "    for el in data:\n",
    "        coordel = (el[0], el[1])\n",
    "        d=distance(cible, coordel)\n",
    "        liste_voisin.append((d,el[2]))\n",
    "        liste_voisin.sort()\n",
    " \n",
    "    return liste_voisin[:k]"
   ]
  },
  {
   "cell_type": "code",
   "execution_count": 17,
   "metadata": {
    "nbgrader": {
     "grade": true,
     "grade_id": "cell-877252982aaabda8",
     "locked": true,
     "points": 3,
     "schema_version": 1,
     "solution": false
    },
    "slideshow": {
     "slide_type": "slide"
    }
   },
   "outputs": [
    {
     "name": "stdout",
     "output_type": "stream",
     "text": [
      "(28.0178514522438, 'black')\n",
      "(35.35533905932738, 'blue')\n",
      "(41.88078318274385, 'red')\n",
      "(47.095647357266465, 'black')\n",
      "(50.60632371551998, 'blue')\n"
     ]
    },
    {
     "ename": "AssertionError",
     "evalue": "",
     "output_type": "error",
     "traceback": [
      "\u001b[0;31m---------------------------------------------------------------------------\u001b[0m",
      "\u001b[0;31mAssertionError\u001b[0m                            Traceback (most recent call last)",
      "\u001b[0;32m<ipython-input-17-a119250c8ed2>\u001b[0m in \u001b[0;36m<module>\u001b[0;34m()\u001b[0m\n\u001b[1;32m      7\u001b[0m \u001b[0;32massert\u001b[0m \u001b[0mreponse\u001b[0m\u001b[0;34m[\u001b[0m\u001b[0;36m0\u001b[0m\u001b[0;34m]\u001b[0m\u001b[0;34m[\u001b[0m\u001b[0;36m1\u001b[0m\u001b[0;34m]\u001b[0m \u001b[0;34m==\u001b[0m \u001b[0;34m'black'\u001b[0m\u001b[0;34m\u001b[0m\u001b[0m\n\u001b[1;32m      8\u001b[0m \u001b[0;32massert\u001b[0m \u001b[0mabs\u001b[0m\u001b[0;34m(\u001b[0m\u001b[0mreponse\u001b[0m\u001b[0;34m[\u001b[0m\u001b[0;36m1\u001b[0m\u001b[0;34m]\u001b[0m\u001b[0;34m[\u001b[0m\u001b[0;36m0\u001b[0m\u001b[0;34m]\u001b[0m\u001b[0;34m-\u001b[0m\u001b[0;36m35.35533905932738\u001b[0m\u001b[0;34m)\u001b[0m \u001b[0;34m<\u001b[0m \u001b[0mPRECISION\u001b[0m\u001b[0;34m\u001b[0m\u001b[0m\n\u001b[0;32m----> 9\u001b[0;31m \u001b[0;32massert\u001b[0m \u001b[0mreponse\u001b[0m\u001b[0;34m[\u001b[0m\u001b[0;36m1\u001b[0m\u001b[0;34m]\u001b[0m\u001b[0;34m[\u001b[0m\u001b[0;36m1\u001b[0m\u001b[0;34m]\u001b[0m\u001b[0;34m[\u001b[0m\u001b[0;36m2\u001b[0m\u001b[0;34m]\u001b[0m \u001b[0;34m==\u001b[0m \u001b[0;34m'blue'\u001b[0m\u001b[0;34m\u001b[0m\u001b[0m\n\u001b[0m\u001b[1;32m     10\u001b[0m \u001b[0;32massert\u001b[0m \u001b[0mabs\u001b[0m\u001b[0;34m(\u001b[0m\u001b[0mreponse\u001b[0m\u001b[0;34m[\u001b[0m\u001b[0;36m2\u001b[0m\u001b[0;34m]\u001b[0m\u001b[0;34m[\u001b[0m\u001b[0;36m0\u001b[0m\u001b[0;34m]\u001b[0m\u001b[0;34m-\u001b[0m\u001b[0;36m41.88078318274385\u001b[0m\u001b[0;34m)\u001b[0m \u001b[0;34m<\u001b[0m \u001b[0mPRECISION\u001b[0m\u001b[0;34m\u001b[0m\u001b[0m\n\u001b[1;32m     11\u001b[0m \u001b[0;32massert\u001b[0m \u001b[0mreponse\u001b[0m\u001b[0;34m[\u001b[0m\u001b[0;36m2\u001b[0m\u001b[0;34m]\u001b[0m\u001b[0;34m[\u001b[0m\u001b[0;36m1\u001b[0m\u001b[0;34m]\u001b[0m\u001b[0;34m[\u001b[0m\u001b[0;36m2\u001b[0m\u001b[0;34m]\u001b[0m \u001b[0;34m==\u001b[0m \u001b[0;34m'red'\u001b[0m\u001b[0;34m\u001b[0m\u001b[0m\n",
      "\u001b[0;31mAssertionError\u001b[0m: "
     ]
    }
   ],
   "source": [
    "# test de la fonction\n",
    "reponse = k_plus_proches(data, (5,5), 5)\n",
    "for r in reponse:\n",
    "    print(r)\n",
    "# tests automatises\n",
    "assert abs(reponse[0][0]-28.0178514522438) < PRECISION\n",
    "assert reponse[0][1] == 'black'\n",
    "assert abs(reponse[1][0]-35.35533905932738) < PRECISION\n",
    "assert reponse[1][1][2] == 'blue'\n",
    "assert abs(reponse[2][0]-41.88078318274385) < PRECISION\n",
    "assert reponse[2][1][2] == 'red'\n",
    "assert abs(reponse[3][0]-47.095647357266465) < PRECISION\n",
    "assert reponse[3][1][2] == 'black'\n",
    "assert abs(reponse[4][0]-50.60632371551998) < PRECISION\n",
    "assert reponse[4][1][2] == 'blue'\n",
    "### BEGIN HIDDEN TESTS\n",
    "reponse1 = k_plus_proches(data, (51,25), 2)\n",
    "assert abs(reponse1[0][0]-11.40175425099138) < PRECISION\n",
    "assert reponse1[0][1][2] == 'red'\n",
    "assert abs(reponse1[1][0]-12.36931687685298) < PRECISION\n",
    "assert reponse1[1][1][2] == 'red'\n",
    "### END HIDDEN TESTS"
   ]
  },
  {
   "cell_type": "code",
   "execution_count": null,
   "metadata": {},
   "outputs": [],
   "source": []
  }
 ],
 "metadata": {
  "celltoolbar": "Aucun(e)",
  "kernelspec": {
   "display_name": "Python 3",
   "language": "python",
   "name": "python3"
  },
  "language_info": {
   "codemirror_mode": {
    "name": "ipython",
    "version": 2
   },
   "file_extension": ".py",
   "mimetype": "text/x-python",
   "name": "python",
   "nbconvert_exporter": "python",
   "pygments_lexer": "ipython2",
   "version": "2.7.17"
  }
 },
 "nbformat": 4,
 "nbformat_minor": 2
}
