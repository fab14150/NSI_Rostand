{
 "cells": [
  {
   "cell_type": "markdown",
   "metadata": {},
   "source": [
    "# TP Algorithmes gloutons : problème du \"rendu de monnaie\""
   ]
  },
  {
   "cell_type": "markdown",
   "metadata": {},
   "source": [
    "## I.1. Présentation du problème\n",
    "\n",
    "### Systeme de monnaie\n",
    "\n",
    "Un achat en espèces se traduit par un échange de pièces et de billets. Dans la suite, **ce qu'on appellera des *pièces* désignera aussi bien les véritables pièces que les billets**.\n",
    "\n",
    "Dans le système monétaire de la zone euro, si on se limite aux sommes entières (pas de centimes) les pièces prennent pour valeurs 1, 2, 5, 10, 20, 50, 100 et 200 euros . On dit que le système de monnaie peut être représenté par le tableau  \n",
    "```\n",
    "monnaieEuro = [1, 2, 5, 10, 20, 50, 100, 200]\n",
    "```\n",
    "\n",
    "\n",
    "### Exemple avec une somme à rendre de 49\n",
    "Supposons maintenant qu'on doive rendre 49 euros de monnaie. Quelles pièces peuvent être rendues ? La réponse n'est pas unique.  \n",
    "\n",
    "- Avec `monnaieEuro` : deux pièces de 20, 1 pièce de 5 et deux pièces de 2 conviennent. Mais quarante-neuf pièces de 1 conviennent aussi.  \n",
    "\n",
    "**Remarque :** Dans tout ce notebook, on suppose que pour rendre la monnaie on dispose d'une \"caisse\" contenant un nombre infini de chacune des pièces du système de monnaie choisi.\n",
    "\n",
    "### Minimiser le nombre de pièces à rendre\n",
    "\n",
    "Si on souhaite maintenant rendre la monnaie `sommeARendre = 49` **avec un minimum de pièces**, on peut démontrer que la meilleure solution pour rendre 49 est `listeRendue = [20, 20, 5, 2, 2]`.  \n",
    "\n",
    "### Définition du problème du rendu de monnaie : rendre la monnaie avec le minimum de pièces\n",
    "\n",
    "Etant donné un système de monnaie à valeurs entières (\\*) et une somme entière à rendre, on appelle problème du rendu de monnaie le problème qui consiste à **rendre la monnaie avec le moins de pièces possibles**.\n",
    "\n",
    "\n",
    "(\\*) *on suppose aussi que le système de monnaie contient la pièce 1 pour être certain de pouvoir rendre la monnaie dans tous les cas*"
   ]
  },
  {
   "cell_type": "markdown",
   "metadata": {},
   "source": [
    "<div class = \"alert alert-danger\">\n",
    "\n",
    "### Synthèse du vocabulaire et des notations utilisées dans la suite du notebook\n",
    "\n",
    "Dans la suite nous appelerons systématiquement :  \n",
    "\n",
    "- `monnaieEuro` le tableau d'**entiers** `[1, 2, 5, 10, 20, 50, 100, 200]`,\n",
    "- `sommeARendre` le montant **entier** de la somme qui doit être rendue (ci-dessus égale à 49),\n",
    "- `listeRendue` le tableau des pièces qui vont être rendues (si on s'y prend mal, `listeRendue` peut utiliser plus de pièces que le minimum possible)."
   ]
  },
  {
   "cell_type": "markdown",
   "metadata": {},
   "source": [
    "<div class = \"alert alert-info\">  \n",
    "\n",
    "### Pour vérifier si on a bien compris\n",
    "\n",
    "**Question :**\n",
    "\n",
    "Pour le systeme `monnaieEuro` et pour `sommeARendre = 37`, trouver :  \n",
    "    \n",
    "- un rendu de monnaie `listeRendue` utilisant selon vous le moins de pièces possibles,\n",
    " ..........................................................\n",
    "- un rendu de monnaie `listeRendue` utilisant plus de pièces que le minimum,\n",
    "...........................................................\n",
    "- laquelle des deux réponses est appelée \"la meilleure solution\" ?\n",
    "...........................................................\n",
    "\n"
   ]
  },
  {
   "cell_type": "markdown",
   "metadata": {},
   "source": [
    "## I.2. L'algorithme naturel du rendu de monnaie est un algorithme glouton"
   ]
  },
  {
   "cell_type": "markdown",
   "metadata": {},
   "source": [
    "<div class = \"alert alert-info\">  \n",
    "    \n",
    "    \n",
    "**Question :**  \n",
    "    \n",
    "Dans le problème du rendu de monnaie : <br>\n",
    "- Quelle est la sélection que l'on effectue ? ....................................................................\n",
    "- Quelle est la contrainte à vérifier par la sélection ? .........................................................\n",
    "- Quelle est la maximisation ou minimisation recherchée ? ........................................................"
   ]
  },
  {
   "cell_type": "markdown",
   "metadata": {},
   "source": [
    "Pour rendre la monnaie la méthode que tout le monde utilise est la suivante :\n",
    "```\n",
    "listeRendue = liste vide\n",
    "Tant que sommeARendre > 0:\n",
    "    - choisir la plus grande pièce de systemeMonnaie inférieure à sommeARendre\n",
    "    - mettre cette pièce dans listeRendue\n",
    "    - diminuer sommeARendre de la valeur de la pièce\n",
    "```"
   ]
  },
  {
   "cell_type": "markdown",
   "metadata": {},
   "source": [
    "<div class = \"alert alert-info\">  \n",
    "\n",
    "\n",
    "**Question :**\n",
    "\n",
    "\n",
    "Quelle est, à chaque étape, la règle de choix ? ................................................................."
   ]
  },
  {
   "cell_type": "markdown",
   "metadata": {},
   "source": [
    "<div class = \"alert alert-danger\">\n",
    "\n",
    "### Conclusion  \n",
    "\n",
    "\n",
    "L'algorithme ci-dessus, appelé \"algorithme du rendu de monnaie\" est bien un algorithme glouton."
   ]
  },
  {
   "cell_type": "markdown",
   "metadata": {},
   "source": [
    "## I.3. Programmation en Python"
   ]
  },
  {
   "cell_type": "markdown",
   "metadata": {},
   "source": [
    "<div class = \"alert alert-info\">  \n",
    "\n",
    "\n",
    "**Question :**\n",
    "\n",
    "\n",
    "Programmer une fonction `plusGrandePiece` qui prend en paramètre :  \n",
    "    \n",
    "- une liste d'entiers strictement positifs `systemeMonnaie` qui contient au moins la valeur 1\n",
    "- un nombre entier `somme` strictement supérieur à 0\n",
    "    \n",
    "et renvoie la plus grande valeur `piece` présente dans `systemeMonnaie` qui est inférieure ou égale à `somme`.  \n",
    "    \n",
    "\n",
    ".    \n",
    "\n",
    "    \n",
    "Quelques assertions qui doivent être vérifiées par votre fonction sont données ci-dessous.\n"
   ]
  },
  {
   "cell_type": "code",
   "execution_count": null,
   "metadata": {},
   "outputs": [],
   "source": [
    "def plusGrandePiece(systemeMonnaie, somme):\n",
    "    #code à compléter\n",
    "    \n",
    "    \n",
    "    return piece"
   ]
  },
  {
   "cell_type": "code",
   "execution_count": null,
   "metadata": {},
   "outputs": [],
   "source": [
    "systemeEuro = [1, 2, 5, 10, 20, 50, 100, 200]\n",
    "\n",
    "assert(plusGrandePiece(systemeEuro, 23) == 20)\n",
    "assert(plusGrandePiece(systemeEuro, 259) == 200)\n",
    "assert(plusGrandePiece(systemeEuro, 9) == 5)\n",
    "assert(plusGrandePiece(systemeEuro, 1) == 1)\n"
   ]
  },
  {
   "cell_type": "markdown",
   "metadata": {},
   "source": [
    "<div class = \"alert alert-info\">  \n",
    "\n",
    "\n",
    "**Question :**\n",
    "\n",
    "\n",
    "En utilisant la fonction `plusGrandePiece` définis ci-dessus, compléter le code de la fonction `rendreMonnaie` qui prend en paramètre :  \n",
    "    \n",
    "- un tableau d'entiers strictement positifs `systemeMonnaie` qui contient au moins la valeur 1\n",
    "- un nombre entier `sommeARendre` strictement supérieur à 0\n",
    "    \n",
    "et renvoie la liste `listeRendue` obtenue par l'algorithme du rendu de monnaie sur `sommeARendre`.   \n",
    "    \n",
    "    \n",
    "On rappelle que pour ajouter un élément `elt` à une liste `L` on utilise l'instruction `L.append(elt)`.\n",
    "     \n",
    "\n",
    ".    \n",
    "\n",
    "    \n",
    "Quelques assertions qui doivent être vérifiées par votre fonction sont données ci-dessous.\n"
   ]
  },
  {
   "cell_type": "code",
   "execution_count": null,
   "metadata": {},
   "outputs": [],
   "source": [
    "def rendreMonnaie(systemeMonnaie, sommeARendre):\n",
    "    listeRendue = []\n",
    "    #code à compléter\n",
    "    \n",
    "   \n",
    "    return listeRendue"
   ]
  },
  {
   "cell_type": "code",
   "execution_count": null,
   "metadata": {},
   "outputs": [],
   "source": [
    "monnaieEuro = [1, 2, 5, 10, 20, 50, 100, 200]\n",
    "\n",
    "assert(rendreMonnaie(monnaieEuro, 23) == [20, 2, 1])\n",
    "assert(rendreMonnaie(monnaieEuro, 259) == [200, 50, 5, 2, 2])\n",
    "assert(rendreMonnaie(monnaieEuro, 9) == [5, 2, 2])\n",
    "assert(rendreMonnaie(monnaieEuro, 1) == [1])\n"
   ]
  },
  {
   "cell_type": "markdown",
   "metadata": {},
   "source": [
    "## I.4. Limite de l'algorithme glouton"
   ]
  },
  {
   "cell_type": "markdown",
   "metadata": {},
   "source": [
    "L'algorithme glouton est très facile à mettre en oeuvre, mais présente une faiblesse.<br>\n",
    "Testons le programme dans le cas suivant :<br>\n",
    "- pieces_euro = [1, 3, 4]<br>\n",
    "- rendre_monnaie = 6"
   ]
  },
  {
   "cell_type": "code",
   "execution_count": null,
   "metadata": {},
   "outputs": [],
   "source": [
    "monnaieEuro=[1,3,4]\n",
    "print(rendreMonnaie(monnaieEuro, 6))"
   ]
  },
  {
   "cell_type": "markdown",
   "metadata": {},
   "source": [
    "- La solution trouvée est-elle optimale ? ......................................................................\n",
    "- Quel est alors le point faible de l'algorithme glouton (le prix à payer de sa simplicité) ? ........................................."
   ]
  },
  {
   "cell_type": "code",
   "execution_count": null,
   "metadata": {},
   "outputs": [],
   "source": []
  }
 ],
 "metadata": {
  "kernelspec": {
   "display_name": "Python 3",
   "language": "python",
   "name": "python3"
  },
  "language_info": {
   "codemirror_mode": {
    "name": "ipython",
    "version": 3
   },
   "file_extension": ".py",
   "mimetype": "text/x-python",
   "name": "python",
   "nbconvert_exporter": "python",
   "pygments_lexer": "ipython3",
   "version": "3.7.0"
  }
 },
 "nbformat": 4,
 "nbformat_minor": 4
}
